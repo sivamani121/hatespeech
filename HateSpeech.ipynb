{
 "cells": [
  {
   "cell_type": "code",
   "execution_count": 1,
   "id": "67cefc99",
   "metadata": {
    "execution": {
     "iopub.execute_input": "2024-05-05T07:53:57.432400Z",
     "iopub.status.busy": "2024-05-05T07:53:57.432114Z",
     "iopub.status.idle": "2024-05-05T07:54:00.918898Z",
     "shell.execute_reply": "2024-05-05T07:54:00.918047Z"
    },
    "papermill": {
     "duration": 3.498735,
     "end_time": "2024-05-05T07:54:00.921108",
     "exception": false,
     "start_time": "2024-05-05T07:53:57.422373",
     "status": "completed"
    },
    "tags": []
   },
   "outputs": [],
   "source": [
    "# Regular imports\n",
    "import matplotlib.pyplot as plt\n",
    "import torch\n",
    "from torch import nn\n",
    "import numpy as np \n",
    "device = \"cuda\" if torch.cuda.is_available() else \"cpu\"\n",
    "\n",
    "# Import torch.nn.functional as F\n",
    "import torch.nn.functional as F"
   ]
  },
  {
   "cell_type": "code",
   "execution_count": 2,
   "id": "50eafe04",
   "metadata": {
    "execution": {
     "iopub.execute_input": "2024-05-05T07:54:00.939282Z",
     "iopub.status.busy": "2024-05-05T07:54:00.938846Z",
     "iopub.status.idle": "2024-05-05T07:54:00.942900Z",
     "shell.execute_reply": "2024-05-05T07:54:00.942159Z"
    },
    "papermill": {
     "duration": 0.015177,
     "end_time": "2024-05-05T07:54:00.944804",
     "exception": false,
     "start_time": "2024-05-05T07:54:00.929627",
     "status": "completed"
    },
    "tags": []
   },
   "outputs": [],
   "source": [
    "# Define data path\n",
    "data_path = \"/kaggle/input/davidson1/labeled_data.csv\"\n"
   ]
  },
  {
   "cell_type": "code",
   "execution_count": 3,
   "id": "1ad9ad54",
   "metadata": {
    "execution": {
     "iopub.execute_input": "2024-05-05T07:54:00.962130Z",
     "iopub.status.busy": "2024-05-05T07:54:00.961884Z",
     "iopub.status.idle": "2024-05-05T07:54:01.789912Z",
     "shell.execute_reply": "2024-05-05T07:54:01.788916Z"
    },
    "papermill": {
     "duration": 0.839221,
     "end_time": "2024-05-05T07:54:01.792237",
     "exception": false,
     "start_time": "2024-05-05T07:54:00.953016",
     "status": "completed"
    },
    "tags": []
   },
   "outputs": [],
   "source": [
    "# Load data\n",
    "import pandas as pd\n",
    "data = pd.read_csv(data_path)\n",
    "df = pd.DataFrame(data)\n",
    "df.columns = ['Unnamed: 0', 'count', 'hate_speech', 'offensive_language', 'neither',\n",
    "              'classk', 'tweet']\n",
    "df[\"classk\"] = df[\"classk\"].map({2:1, 1:0, 0:0})  # Convert labels to binary (hate vs not hate)\n",
    "tweets = df.tweet\n",
    "res = []\n"
   ]
  },
  {
   "cell_type": "code",
   "execution_count": 4,
   "id": "4fb61089",
   "metadata": {
    "execution": {
     "iopub.execute_input": "2024-05-05T07:54:01.810046Z",
     "iopub.status.busy": "2024-05-05T07:54:01.809754Z",
     "iopub.status.idle": "2024-05-05T07:54:01.958976Z",
     "shell.execute_reply": "2024-05-05T07:54:01.958006Z"
    },
    "papermill": {
     "duration": 0.160559,
     "end_time": "2024-05-05T07:54:01.961241",
     "exception": false,
     "start_time": "2024-05-05T07:54:01.800682",
     "status": "completed"
    },
    "tags": []
   },
   "outputs": [],
   "source": [
    "# Process tweets\n",
    "for i in range(len(tweets)):\n",
    "    splitt = tweets[i].split(\":\")\n",
    "    if len(splitt) == 1:\n",
    "        res.append(splitt[0])\n",
    "    else:\n",
    "        res.append(splitt[-1])\n",
    "\n",
    "tweets = res"
   ]
  },
  {
   "cell_type": "code",
   "execution_count": 5,
   "id": "b6efecb6",
   "metadata": {
    "execution": {
     "iopub.execute_input": "2024-05-05T07:54:01.981042Z",
     "iopub.status.busy": "2024-05-05T07:54:01.980743Z",
     "iopub.status.idle": "2024-05-05T07:54:08.836796Z",
     "shell.execute_reply": "2024-05-05T07:54:08.835798Z"
    },
    "papermill": {
     "duration": 6.868699,
     "end_time": "2024-05-05T07:54:08.839234",
     "exception": false,
     "start_time": "2024-05-05T07:54:01.970535",
     "status": "completed"
    },
    "tags": []
   },
   "outputs": [
    {
     "data": {
      "application/vnd.jupyter.widget-view+json": {
       "model_id": "491a834a5bf2414e8decd980e456806a",
       "version_major": 2,
       "version_minor": 0
      },
      "text/plain": [
       "tokenizer_config.json:   0%|          | 0.00/48.0 [00:00<?, ?B/s]"
      ]
     },
     "metadata": {},
     "output_type": "display_data"
    },
    {
     "data": {
      "application/vnd.jupyter.widget-view+json": {
       "model_id": "590c3a3d28394124b9e15fcc3d2d3976",
       "version_major": 2,
       "version_minor": 0
      },
      "text/plain": [
       "config.json:   0%|          | 0.00/570 [00:00<?, ?B/s]"
      ]
     },
     "metadata": {},
     "output_type": "display_data"
    },
    {
     "data": {
      "application/vnd.jupyter.widget-view+json": {
       "model_id": "f95ba37fd64e4290932e23cdfafb42bc",
       "version_major": 2,
       "version_minor": 0
      },
      "text/plain": [
       "vocab.txt:   0%|          | 0.00/232k [00:00<?, ?B/s]"
      ]
     },
     "metadata": {},
     "output_type": "display_data"
    },
    {
     "data": {
      "application/vnd.jupyter.widget-view+json": {
       "model_id": "ec6a7028ea36481c8f374478cdfd4984",
       "version_major": 2,
       "version_minor": 0
      },
      "text/plain": [
       "tokenizer.json:   0%|          | 0.00/466k [00:00<?, ?B/s]"
      ]
     },
     "metadata": {},
     "output_type": "display_data"
    },
    {
     "data": {
      "application/vnd.jupyter.widget-view+json": {
       "model_id": "5bbc97254ad34a1bbe370502db366fc9",
       "version_major": 2,
       "version_minor": 0
      },
      "text/plain": [
       "model.safetensors:   0%|          | 0.00/440M [00:00<?, ?B/s]"
      ]
     },
     "metadata": {},
     "output_type": "display_data"
    }
   ],
   "source": [
    "\n",
    "# Import tokenizer and BERT model\n",
    "from transformers import AutoTokenizer, BertModel\n",
    "tokenizer = AutoTokenizer.from_pretrained(\"bert-base-uncased\")\n",
    "model = BertModel.from_pretrained(\"bert-base-uncased\")"
   ]
  },
  {
   "cell_type": "code",
   "execution_count": 6,
   "id": "75d3adc8",
   "metadata": {
    "execution": {
     "iopub.execute_input": "2024-05-05T07:54:08.860519Z",
     "iopub.status.busy": "2024-05-05T07:54:08.860019Z",
     "iopub.status.idle": "2024-05-05T07:54:08.867590Z",
     "shell.execute_reply": "2024-05-05T07:54:08.866733Z"
    },
    "papermill": {
     "duration": 0.020713,
     "end_time": "2024-05-05T07:54:08.869649",
     "exception": false,
     "start_time": "2024-05-05T07:54:08.848936",
     "status": "completed"
    },
    "tags": []
   },
   "outputs": [],
   "source": [
    "# Define custom dataset class\n",
    "class Custom_Dataset(torch.utils.data.Dataset):\n",
    "    def __init__(self, data, labels):\n",
    "        self.data = data\n",
    "        self.labels = labels\n",
    "        \n",
    "    def __getitem__(self, index: int) -> (torch.Tensor, int):\n",
    "        X = self.data[index]\n",
    "        y = self.labels[index]\n",
    "        return (X, y)\n",
    "    \n",
    "    def __len__(self) -> int:\n",
    "        return len(self.data)\n"
   ]
  },
  {
   "cell_type": "code",
   "execution_count": 7,
   "id": "1fe87172",
   "metadata": {
    "execution": {
     "iopub.execute_input": "2024-05-05T07:54:08.891164Z",
     "iopub.status.busy": "2024-05-05T07:54:08.890871Z",
     "iopub.status.idle": "2024-05-05T07:54:09.977249Z",
     "shell.execute_reply": "2024-05-05T07:54:09.976273Z"
    },
    "papermill": {
     "duration": 1.09927,
     "end_time": "2024-05-05T07:54:09.979618",
     "exception": false,
     "start_time": "2024-05-05T07:54:08.880348",
     "status": "completed"
    },
    "tags": []
   },
   "outputs": [],
   "source": [
    "# Split data into train and test sets\n",
    "from sklearn.model_selection import train_test_split\n",
    "X_train, X_test, y_train, y_test = train_test_split(tweets, list(df.classk), test_size=0.2, shuffle=True)\n",
    "\n",
    "# Define train and test datasets and dataloaders\n",
    "train_data = Custom_Dataset(data=X_train, labels=y_train)\n",
    "test_data = Custom_Dataset(data=X_test, labels=y_test)\n",
    "train_loader = torch.utils.data.DataLoader(dataset=train_data, batch_size=3, shuffle=True)\n",
    "test_loader = torch.utils.data.DataLoader(dataset=test_data, batch_size=1, shuffle=False)"
   ]
  },
  {
   "cell_type": "code",
   "execution_count": 8,
   "id": "6f89354b",
   "metadata": {
    "execution": {
     "iopub.execute_input": "2024-05-05T07:54:09.999915Z",
     "iopub.status.busy": "2024-05-05T07:54:09.999432Z",
     "iopub.status.idle": "2024-05-05T07:54:10.006463Z",
     "shell.execute_reply": "2024-05-05T07:54:10.005647Z"
    },
    "papermill": {
     "duration": 0.019527,
     "end_time": "2024-05-05T07:54:10.008593",
     "exception": false,
     "start_time": "2024-05-05T07:54:09.989066",
     "status": "completed"
    },
    "tags": []
   },
   "outputs": [],
   "source": [
    "class Model0(nn.Module):\n",
    "    def __init__(self, model, tokenizer):\n",
    "        super().__init__()\n",
    "        self.tokenizer = tokenizer\n",
    "        self.model = model\n",
    "        self.fc1 = nn.Linear(768, 256)  # Additional layer for fine-tuning\n",
    "        self.fc2 = nn.Linear(256, 2)     # Output layer\n",
    "\n",
    "    def forward(self, X):\n",
    "        inputs = self.tokenizer(X, return_tensors=\"pt\").to(device)\n",
    "        outputs = self.model(**inputs)\n",
    "        outputs = outputs.last_hidden_state[0][0].unsqueeze(1)\n",
    "\n",
    "        \n",
    "        # Additional layers for fine-tuning\n",
    "        outputs = torch.relu(self.fc1(outputs.squeeze()))  # Remove extra dimension\n",
    "        outputs = self.fc2(outputs)\n",
    "\n",
    "        return outputs\n"
   ]
  },
  {
   "cell_type": "code",
   "execution_count": 9,
   "id": "9dd6fef3",
   "metadata": {
    "execution": {
     "iopub.execute_input": "2024-05-05T07:54:10.028329Z",
     "iopub.status.busy": "2024-05-05T07:54:10.027818Z",
     "iopub.status.idle": "2024-05-05T07:54:10.281097Z",
     "shell.execute_reply": "2024-05-05T07:54:10.280298Z"
    },
    "papermill": {
     "duration": 0.26552,
     "end_time": "2024-05-05T07:54:10.283345",
     "exception": false,
     "start_time": "2024-05-05T07:54:10.017825",
     "status": "completed"
    },
    "tags": []
   },
   "outputs": [],
   "source": [
    "# Instantiate the model\n",
    "model0 = Model0(model, tokenizer)\n",
    "model0.to(device)\n",
    "\n",
    "# Define the optimizer\n",
    "optimizer = torch.optim.Adam(params=model0.parameters(), lr=0.00002)"
   ]
  },
  {
   "cell_type": "code",
   "execution_count": 10,
   "id": "7df5ad1d",
   "metadata": {
    "execution": {
     "iopub.execute_input": "2024-05-05T07:54:10.303617Z",
     "iopub.status.busy": "2024-05-05T07:54:10.303097Z",
     "iopub.status.idle": "2024-05-05T07:54:10.312179Z",
     "shell.execute_reply": "2024-05-05T07:54:10.311295Z"
    },
    "papermill": {
     "duration": 0.02131,
     "end_time": "2024-05-05T07:54:10.314132",
     "exception": false,
     "start_time": "2024-05-05T07:54:10.292822",
     "status": "completed"
    },
    "tags": []
   },
   "outputs": [],
   "source": [
    "# Define the inter and intra space loss functions\n",
    "def L_inter(spaces):\n",
    "    means = [torch.mean(spaces[i]) for i in range(spaces.shape[0])]\n",
    "    loss = torch.tensor(0.0, requires_grad=True)\n",
    "    for k in range(len(means)):\n",
    "        cur = torch.tensor(0.0, requires_grad=True)\n",
    "        for l in range(len(means)):\n",
    "            if l == k:\n",
    "                continue\n",
    "            cur = cur + (1 / (1 - ((means[k] * means[l]))))\n",
    "        loss = loss + cur\n",
    "    return loss\n",
    "\n",
    "def L_intra(spaces):\n",
    "    loss = torch.tensor(0.0, requires_grad=True)\n",
    "    for k in range(len(spaces)):\n",
    "        loss = loss + 1 / torch.var(spaces[k], dim=0)\n",
    "    return torch.sum(loss) / loss.shape[0]"
   ]
  },
  {
   "cell_type": "code",
   "execution_count": 11,
   "id": "acf4b247",
   "metadata": {
    "execution": {
     "iopub.execute_input": "2024-05-05T07:54:10.334398Z",
     "iopub.status.busy": "2024-05-05T07:54:10.333699Z",
     "iopub.status.idle": "2024-05-05T07:54:58.607550Z",
     "shell.execute_reply": "2024-05-05T07:54:58.606513Z"
    },
    "papermill": {
     "duration": 48.296111,
     "end_time": "2024-05-05T07:54:58.619529",
     "exception": false,
     "start_time": "2024-05-05T07:54:10.323418",
     "status": "completed"
    },
    "tags": []
   },
   "outputs": [
    {
     "name": "stdout",
     "output_type": "stream",
     "text": [
      "Test Accuracy: 0.3149082064628601\n"
     ]
    }
   ],
   "source": [
    "# Evaluate the model\n",
    "correct = 0\n",
    "total = len(y_test)\n",
    "\n",
    "true = []\n",
    "preds = []\n",
    "\n",
    "with torch.no_grad():\n",
    "    for i, batch in enumerate(test_loader):\n",
    "#         if i == 100 :\n",
    "#             break\n",
    "        X, y = batch\n",
    "        y_preds = model0(X)\n",
    "\n",
    "        # Move y tensor to the same device as y_preds\n",
    "        y = y.to(y_preds.device)\n",
    "\n",
    "        y_predict = torch.argmax(y_preds)\n",
    "\n",
    "        true.extend(y.cpu())  # Move true labels back to CPU\n",
    "        preds.append(y_predict.cpu())  # Move predictions back to CPU\n",
    "\n",
    "        cur = torch.eq(y_predict, y)\n",
    "\n",
    "        correct += torch.sum(cur)\n",
    "\n",
    "print(f\"Test Accuracy: {correct/total}\")\n"
   ]
  },
  {
   "cell_type": "code",
   "execution_count": 12,
   "id": "db084b73",
   "metadata": {
    "execution": {
     "iopub.execute_input": "2024-05-05T07:54:58.638801Z",
     "iopub.status.busy": "2024-05-05T07:54:58.638481Z",
     "iopub.status.idle": "2024-05-05T08:26:13.244491Z",
     "shell.execute_reply": "2024-05-05T08:26:13.243654Z"
    },
    "papermill": {
     "duration": 1874.618194,
     "end_time": "2024-05-05T08:26:13.246779",
     "exception": false,
     "start_time": "2024-05-05T07:54:58.628585",
     "status": "completed"
    },
    "tags": []
   },
   "outputs": [
    {
     "name": "stdout",
     "output_type": "stream",
     "text": [
      "0\n",
      "2000\n",
      "4000\n",
      "6000\n",
      "0\n",
      "2000\n",
      "4000\n",
      "6000\n",
      "0\n",
      "2000\n",
      "4000\n",
      "6000\n"
     ]
    }
   ],
   "source": [
    "# Train the model\n",
    "model0.train()\n",
    "try:\n",
    "    for _ in range(3):\n",
    "        for i, batch in enumerate(train_loader):\n",
    "#             if i==100:\n",
    "#                 break\n",
    "            if i % 2000 == 0:\n",
    "                print(i)\n",
    "\n",
    "            X, Y = batch\n",
    "            loss = 0\n",
    "\n",
    "            for X, y in zip(X, Y):\n",
    "                y_preds = model0(X)\n",
    "                loss += F.cross_entropy(y_preds.view(1, -1).to(device), torch.tensor([y]).to(device))\n",
    "\n",
    "            loss /= len(Y)\n",
    "#             loss += 0.7 * L_inter(torch.cat((hate_space, not_hate_space))) + 0.5 * L_intra(torch.stack([hate_space, not_hate_space]))\n",
    "\n",
    "            optimizer.zero_grad()\n",
    "            loss.backward()\n",
    "            optimizer.step()\n",
    "        \n",
    "\n",
    "except KeyboardInterrupt:\n",
    "    print(\"Training interrupted by the user.\")"
   ]
  },
  {
   "cell_type": "code",
   "execution_count": 13,
   "id": "9d13baa2",
   "metadata": {
    "execution": {
     "iopub.execute_input": "2024-05-05T08:26:13.269705Z",
     "iopub.status.busy": "2024-05-05T08:26:13.269396Z",
     "iopub.status.idle": "2024-05-05T08:27:05.924377Z",
     "shell.execute_reply": "2024-05-05T08:27:05.923530Z"
    },
    "papermill": {
     "duration": 52.678992,
     "end_time": "2024-05-05T08:27:05.936665",
     "exception": false,
     "start_time": "2024-05-05T08:26:13.257673",
     "status": "completed"
    },
    "tags": []
   },
   "outputs": [
    {
     "name": "stdout",
     "output_type": "stream",
     "text": [
      "Test Accuracy: 0.9227355122566223\n"
     ]
    }
   ],
   "source": [
    "# Evaluate the model\n",
    "correct = 0\n",
    "total = len(y_test)\n",
    "\n",
    "true = []\n",
    "preds = []\n",
    "\n",
    "with torch.no_grad():\n",
    "    for i, batch in enumerate(test_loader):\n",
    "#         if i == 100 :\n",
    "#             break\n",
    "        X, y = batch\n",
    "        y_preds = model0(X)\n",
    "\n",
    "        # Move y tensor to the same device as y_preds\n",
    "        y = y.to(y_preds.device)\n",
    "\n",
    "        y_predict = torch.argmax(y_preds)\n",
    "\n",
    "        true.extend(y.cpu())  # Move true labels back to CPU\n",
    "        preds.append(y_predict.cpu())  # Move predictions back to CPU\n",
    "\n",
    "        cur = torch.eq(y_predict, y)\n",
    "\n",
    "        correct += torch.sum(cur)\n",
    "\n",
    "print(f\"Test Accuracy: {correct/total}\")\n"
   ]
  },
  {
   "cell_type": "code",
   "execution_count": 14,
   "id": "bc75281b",
   "metadata": {
    "execution": {
     "iopub.execute_input": "2024-05-05T08:27:05.958202Z",
     "iopub.status.busy": "2024-05-05T08:27:05.957899Z",
     "iopub.status.idle": "2024-05-05T08:27:05.962752Z",
     "shell.execute_reply": "2024-05-05T08:27:05.961908Z"
    },
    "papermill": {
     "duration": 0.01768,
     "end_time": "2024-05-05T08:27:05.964553",
     "exception": false,
     "start_time": "2024-05-05T08:27:05.946873",
     "status": "completed"
    },
    "tags": []
   },
   "outputs": [],
   "source": [
    "# Define hate and not_hate words\n",
    "hate_words = ['Moist', 'Cunt', 'Panties', 'Fuck', 'Hate', 'Nigger', 'Pussy', 'Ass', \n",
    "              'Motherfucker', 'Bitch', 'Damn']\n",
    "not_hate_words = ['Love', 'Peace', 'Kindness', 'Happiness', 'Respect', 'Friendship',\n",
    "                  'Appreciation', 'Hope', 'Encouragement', 'Support', 'Caring']"
   ]
  },
  {
   "cell_type": "code",
   "execution_count": 15,
   "id": "f5b16f8b",
   "metadata": {
    "execution": {
     "iopub.execute_input": "2024-05-05T08:27:05.986199Z",
     "iopub.status.busy": "2024-05-05T08:27:05.985904Z",
     "iopub.status.idle": "2024-05-05T08:27:06.278531Z",
     "shell.execute_reply": "2024-05-05T08:27:06.277778Z"
    },
    "papermill": {
     "duration": 0.305836,
     "end_time": "2024-05-05T08:27:06.280825",
     "exception": false,
     "start_time": "2024-05-05T08:27:05.974989",
     "status": "completed"
    },
    "tags": []
   },
   "outputs": [],
   "source": [
    "temp = []\n",
    "for word in hate_words:\n",
    "    inputs = tokenizer(word, return_tensors=\"pt\").to(device)\n",
    "    outputs = model(**inputs)\n",
    "    outputs = torch.mean(outputs.last_hidden_state[0][1:], dim=0)\n",
    "    temp.append(outputs.tolist())\n",
    "\n",
    "hate_space = torch.tensor(temp).to(device).requires_grad_()\n",
    "\n",
    "# Process not_hate words\n",
    "temp = []\n",
    "for word in not_hate_words:\n",
    "    inputs = tokenizer(word, return_tensors=\"pt\").to(device)\n",
    "    outputs = model(**inputs)\n",
    "    outputs = torch.mean(outputs.last_hidden_state[0][1:], dim=0)\n",
    "    temp.append(outputs.tolist())\n",
    "\n",
    "not_hate_space = torch.tensor(temp).to(device).requires_grad_()"
   ]
  },
  {
   "cell_type": "code",
   "execution_count": 16,
   "id": "14809279",
   "metadata": {
    "execution": {
     "iopub.execute_input": "2024-05-05T08:27:06.302867Z",
     "iopub.status.busy": "2024-05-05T08:27:06.302546Z",
     "iopub.status.idle": "2024-05-05T08:27:06.309386Z",
     "shell.execute_reply": "2024-05-05T08:27:06.308635Z"
    },
    "papermill": {
     "duration": 0.019844,
     "end_time": "2024-05-05T08:27:06.311415",
     "exception": false,
     "start_time": "2024-05-05T08:27:06.291571",
     "status": "completed"
    },
    "tags": []
   },
   "outputs": [
    {
     "data": {
      "text/plain": [
       "[[0.5720338785422512],\n",
       " [0.45928205225202356],\n",
       " [0.44936006997990596],\n",
       " [0.8108510437408157],\n",
       " [0.96053383712128],\n",
       " [0.7053073959196501],\n",
       " [0.5787197708418793],\n",
       " [0.5292252027504174],\n",
       " [0.10294530098888222],\n",
       " [0.16710931574901944],\n",
       " [0.6757277080630221]]"
      ]
     },
     "execution_count": 16,
     "metadata": {},
     "output_type": "execute_result"
    }
   ],
   "source": [
    "import random\n",
    "l=[[random.uniform(0,1)] for i in range(11)]\n",
    "l"
   ]
  },
  {
   "cell_type": "code",
   "execution_count": 17,
   "id": "5437ee39",
   "metadata": {
    "execution": {
     "iopub.execute_input": "2024-05-05T08:27:06.332992Z",
     "iopub.status.busy": "2024-05-05T08:27:06.332735Z",
     "iopub.status.idle": "2024-05-05T08:27:06.338477Z",
     "shell.execute_reply": "2024-05-05T08:27:06.337493Z"
    },
    "papermill": {
     "duration": 0.018585,
     "end_time": "2024-05-05T08:27:06.340420",
     "exception": false,
     "start_time": "2024-05-05T08:27:06.321835",
     "status": "completed"
    },
    "tags": []
   },
   "outputs": [
    {
     "name": "stdout",
     "output_type": "stream",
     "text": [
      "cuda:0 True\n"
     ]
    }
   ],
   "source": [
    "# next(iter(test_loader)) \n",
    "tensor_shape = (11,1)\n",
    "hate_space_weights = torch.tensor(l).to(device).requires_grad_()\n",
    "not_hate_space_weights = torch.tensor(l).to(device).requires_grad_()\n",
    "\n",
    "print(hate_space_weights.device,not_hate_space_weights.is_leaf)"
   ]
  },
  {
   "cell_type": "code",
   "execution_count": 18,
   "id": "0ead710a",
   "metadata": {
    "execution": {
     "iopub.execute_input": "2024-05-05T08:27:06.361852Z",
     "iopub.status.busy": "2024-05-05T08:27:06.361553Z",
     "iopub.status.idle": "2024-05-05T08:27:06.366619Z",
     "shell.execute_reply": "2024-05-05T08:27:06.365854Z"
    },
    "papermill": {
     "duration": 0.017987,
     "end_time": "2024-05-05T08:27:06.368552",
     "exception": false,
     "start_time": "2024-05-05T08:27:06.350565",
     "status": "completed"
    },
    "tags": []
   },
   "outputs": [
    {
     "data": {
      "text/plain": [
       "torch.Size([11, 1])"
      ]
     },
     "execution_count": 18,
     "metadata": {},
     "output_type": "execute_result"
    }
   ],
   "source": [
    "hate_space_weights.shape"
   ]
  },
  {
   "cell_type": "code",
   "execution_count": 19,
   "id": "5178b215",
   "metadata": {
    "execution": {
     "iopub.execute_input": "2024-05-05T08:27:06.390511Z",
     "iopub.status.busy": "2024-05-05T08:27:06.389880Z",
     "iopub.status.idle": "2024-05-05T08:27:06.394963Z",
     "shell.execute_reply": "2024-05-05T08:27:06.394195Z"
    },
    "papermill": {
     "duration": 0.017926,
     "end_time": "2024-05-05T08:27:06.396836",
     "exception": false,
     "start_time": "2024-05-05T08:27:06.378910",
     "status": "completed"
    },
    "tags": []
   },
   "outputs": [
    {
     "data": {
      "text/plain": [
       "True"
      ]
     },
     "execution_count": 19,
     "metadata": {},
     "output_type": "execute_result"
    }
   ],
   "source": [
    "hate_space_weights.is_leaf"
   ]
  },
  {
   "cell_type": "code",
   "execution_count": 20,
   "id": "a84cce5a",
   "metadata": {
    "execution": {
     "iopub.execute_input": "2024-05-05T08:27:06.418480Z",
     "iopub.status.busy": "2024-05-05T08:27:06.418247Z",
     "iopub.status.idle": "2024-05-05T08:27:06.427688Z",
     "shell.execute_reply": "2024-05-05T08:27:06.426861Z"
    },
    "papermill": {
     "duration": 0.022293,
     "end_time": "2024-05-05T08:27:06.429548",
     "exception": false,
     "start_time": "2024-05-05T08:27:06.407255",
     "status": "completed"
    },
    "tags": []
   },
   "outputs": [],
   "source": [
    "import torch.nn.functional as F\n",
    "\n",
    "class Model1(nn.Module):\n",
    "\n",
    "    def __init__(self, model, tokenizer):\n",
    "        super().__init__()\n",
    "        self.tokenizer = tokenizer\n",
    "        self.model = model\n",
    "\n",
    "    def forward(self, X):\n",
    "        inputs = self.tokenizer(X, return_tensors=\"pt\").to(device)\n",
    "        outputs = self.model(**inputs)\n",
    "        outputs = outputs.last_hidden_state[0][1:len(outputs.last_hidden_state[0])].transpose(0, 1)#shape=>(768,no of tokens)\n",
    "        col_norms = torch.norm(outputs, p=2, dim=0, keepdim=True)\n",
    "        outputs = outputs / col_norms#makes every word rep unit vector \n",
    "        hate_att_scores=torch.matmul(hate_space/torch.norm(hate_space,p=2, dim=0, keepdim=True),outputs)#shape=>(11,v)\n",
    "        not_hate_att_scores=torch.matmul(not_hate_space/torch.norm(not_hate_space,p=2, dim=0, keepdim=True),outputs)#shape=>(11,v)\n",
    "        Psk_hate = torch.matmul(hate_att_scores.max(1)[0], hate_space_weights)#shape=>(1)\n",
    "        Psk_not_hate = torch.matmul(not_hate_att_scores.max(1)[0], not_hate_space_weights)#shape=>(1)\n",
    "        output_tensor = torch.cat((Psk_hate, Psk_not_hate), dim=0).requires_grad_()#\n",
    "        return output_tensor"
   ]
  },
  {
   "cell_type": "code",
   "execution_count": 21,
   "id": "a7c4f5b6",
   "metadata": {
    "execution": {
     "iopub.execute_input": "2024-05-05T08:27:06.451463Z",
     "iopub.status.busy": "2024-05-05T08:27:06.451203Z",
     "iopub.status.idle": "2024-05-05T08:27:06.454880Z",
     "shell.execute_reply": "2024-05-05T08:27:06.454015Z"
    },
    "papermill": {
     "duration": 0.016692,
     "end_time": "2024-05-05T08:27:06.456718",
     "exception": false,
     "start_time": "2024-05-05T08:27:06.440026",
     "status": "completed"
    },
    "tags": []
   },
   "outputs": [],
   "source": [
    "model1 = Model1(model, tokenizer)"
   ]
  },
  {
   "cell_type": "code",
   "execution_count": 22,
   "id": "b3a5f81e",
   "metadata": {
    "execution": {
     "iopub.execute_input": "2024-05-05T08:27:06.478806Z",
     "iopub.status.busy": "2024-05-05T08:27:06.478347Z",
     "iopub.status.idle": "2024-05-05T08:27:06.486403Z",
     "shell.execute_reply": "2024-05-05T08:27:06.485616Z"
    },
    "papermill": {
     "duration": 0.021123,
     "end_time": "2024-05-05T08:27:06.488275",
     "exception": false,
     "start_time": "2024-05-05T08:27:06.467152",
     "status": "completed"
    },
    "tags": []
   },
   "outputs": [],
   "source": [
    "def L_inter(spaces):\n",
    "    \"\"\"this function calculates inter space losses between spaces \n",
    "    forces the class spaces of different class to move apart\n",
    "    \"\"\"\n",
    "    means = [torch.mean(spaces[i]) for i in range(spaces.shape[0])]\n",
    "    \n",
    "    loss = torch.tensor(0.0, requires_grad=True)\n",
    "    \n",
    "    for k in range(len(means)):\n",
    "        cur = torch.tensor(0.0, requires_grad=True)\n",
    "        for l in range(len(means)):\n",
    "            if l == k:\n",
    "                continue\n",
    "            cur = cur + (1 / (1 - ((means[k] * means[l]))))\n",
    "        \n",
    "        loss = loss + cur\n",
    "    \n",
    "    return loss\n",
    "            \n",
    "            \n",
    "\n",
    "def L_intra(spaces):\n",
    "    \"\"\"\"this function calculates intra space loss \n",
    "forces the vector representations inside a class space to have high variability(varience)\n",
    "\"\"\"\n",
    "    loss=torch.tensor(0.0, requires_grad=True)\n",
    "    for k in range(len(spaces)):\n",
    "        loss=loss+1/torch.var(spaces[k], dim=0)\n",
    "    \n",
    "    return torch.sum(loss)/loss.shape[0]"
   ]
  },
  {
   "cell_type": "code",
   "execution_count": 23,
   "id": "2527a6c5",
   "metadata": {
    "execution": {
     "iopub.execute_input": "2024-05-05T08:27:06.510310Z",
     "iopub.status.busy": "2024-05-05T08:27:06.510066Z",
     "iopub.status.idle": "2024-05-05T08:27:06.649778Z",
     "shell.execute_reply": "2024-05-05T08:27:06.648882Z"
    },
    "papermill": {
     "duration": 0.153036,
     "end_time": "2024-05-05T08:27:06.651895",
     "exception": false,
     "start_time": "2024-05-05T08:27:06.498859",
     "status": "completed"
    },
    "tags": []
   },
   "outputs": [
    {
     "name": "stdout",
     "output_type": "stream",
     "text": [
      "tensor([[ 0.2835,  0.3799, -0.0489,  ...,  0.4111, -0.7292,  0.0447],\n",
      "        [-0.0774,  0.9263, -0.4947,  ..., -0.4127, -0.8346, -0.4496],\n",
      "        [-0.2498,  0.7824, -0.5947,  ..., -0.2192, -1.0976, -0.6697],\n",
      "        ...,\n",
      "        [-0.1559,  0.8670, -0.3117,  ..., -0.4052, -1.0796, -0.5676],\n",
      "        [-0.1798,  1.1351, -0.6005,  ..., -0.5616, -0.9880, -0.3972],\n",
      "        [-0.1925,  0.6191, -0.6414,  ..., -0.7111, -1.2045, -0.4112]],\n",
      "       device='cuda:0', requires_grad=True) tensor([[-0.1001,  0.0712, -0.2645,  ..., -0.5130, -0.6274,  0.3050],\n",
      "        [-0.0923,  0.5072, -0.0767,  ...,  0.6526, -0.1610, -0.3062],\n",
      "        [ 0.1175,  0.0554,  0.0812,  ...,  0.4107, -0.8082,  0.1769],\n",
      "        ...,\n",
      "        [ 0.1417,  0.1733, -0.1953,  ..., -0.4548, -0.9666,  0.2320],\n",
      "        [-0.0031,  0.0814, -0.3989,  ..., -0.1432, -1.0147,  0.3762],\n",
      "        [-0.0963,  0.2074,  0.0061,  ...,  0.3238, -0.5720,  0.0845]],\n",
      "       device='cuda:0', requires_grad=True)\n"
     ]
    }
   ],
   "source": [
    "print(hate_space,not_hate_space)"
   ]
  },
  {
   "cell_type": "code",
   "execution_count": 24,
   "id": "9f3dd399",
   "metadata": {
    "execution": {
     "iopub.execute_input": "2024-05-05T08:27:06.719043Z",
     "iopub.status.busy": "2024-05-05T08:27:06.718376Z",
     "iopub.status.idle": "2024-05-05T08:27:06.725928Z",
     "shell.execute_reply": "2024-05-05T08:27:06.725059Z"
    },
    "papermill": {
     "duration": 0.021491,
     "end_time": "2024-05-05T08:27:06.727837",
     "exception": false,
     "start_time": "2024-05-05T08:27:06.706346",
     "status": "completed"
    },
    "tags": []
   },
   "outputs": [
    {
     "name": "stdout",
     "output_type": "stream",
     "text": [
      "tensor([[0.5720],\n",
      "        [0.4593],\n",
      "        [0.4494],\n",
      "        [0.8109],\n",
      "        [0.9605],\n",
      "        [0.7053],\n",
      "        [0.5787],\n",
      "        [0.5292],\n",
      "        [0.1029],\n",
      "        [0.1671],\n",
      "        [0.6757]], device='cuda:0', requires_grad=True) tensor([[0.5720],\n",
      "        [0.4593],\n",
      "        [0.4494],\n",
      "        [0.8109],\n",
      "        [0.9605],\n",
      "        [0.7053],\n",
      "        [0.5787],\n",
      "        [0.5292],\n",
      "        [0.1029],\n",
      "        [0.1671],\n",
      "        [0.6757]], device='cuda:0', requires_grad=True)\n"
     ]
    }
   ],
   "source": [
    "print(hate_space_weights,not_hate_space_weights)"
   ]
  },
  {
   "cell_type": "code",
   "execution_count": 25,
   "id": "ee106a0f",
   "metadata": {
    "execution": {
     "iopub.execute_input": "2024-05-05T08:27:06.751389Z",
     "iopub.status.busy": "2024-05-05T08:27:06.751119Z",
     "iopub.status.idle": "2024-05-05T09:59:44.966942Z",
     "shell.execute_reply": "2024-05-05T09:59:44.965912Z"
    },
    "papermill": {
     "duration": 5558.229925,
     "end_time": "2024-05-05T09:59:44.969044",
     "exception": false,
     "start_time": "2024-05-05T08:27:06.739119",
     "status": "completed"
    },
    "tags": []
   },
   "outputs": [
    {
     "name": "stdout",
     "output_type": "stream",
     "text": [
      "True\n",
      "0\n",
      "2000\n",
      "4000\n",
      "6000\n",
      "Test Accuracy: 0.9267702102661133\n",
      "0.8889044013645062\n",
      "0.8385442106867239\n",
      "0\n",
      "2000\n",
      "4000\n",
      "6000\n",
      "Test Accuracy: 0.9247528910636902\n",
      "0.8873783736588614\n",
      "0.8316270835252665\n",
      "0\n",
      "2000\n",
      "4000\n",
      "6000\n",
      "Test Accuracy: 0.925963282585144\n",
      "0.8858074268965358\n",
      "0.8390091959897118\n",
      "0\n",
      "2000\n",
      "4000\n",
      "6000\n",
      "Test Accuracy: 0.9245511293411255\n",
      "0.8838300109107672\n",
      "0.8353078550358344\n",
      "0\n",
      "2000\n",
      "4000\n",
      "6000\n",
      "Test Accuracy: 0.9257615208625793\n",
      "0.8885189024960458\n",
      "0.8346103770813524\n"
     ]
    }
   ],
   "source": [
    "from sklearn.metrics import precision_score, recall_score\n",
    "\n",
    "\n",
    "model1.to(device)\n",
    "\n",
    "print(hate_space.is_leaf)\n",
    "optimizer = torch.optim.Adam(params=[hate_space, not_hate_space, hate_space_weights, not_hate_space_weights], lr=0.0002)\n",
    "model1.train()\n",
    "\n",
    "\n",
    "curr=0.1\n",
    "prev=0\n",
    "pprev=0\n",
    "for _ in range(5):\n",
    "    for i, batch in enumerate(train_loader):\n",
    "#         if i == 100:\n",
    "#             break\n",
    "        if i % 2000 == 0:\n",
    "            print(i)\n",
    "\n",
    "        x, Y = batch\n",
    "        loss = 0\n",
    "\n",
    "        for X, y in zip(x, Y):\n",
    "            probs = model1(X)\n",
    "#             print(y_preds)\n",
    "            #print(f\"printing y_preds={y_preds} shape={y_preds.shape}\")\n",
    "\n",
    "            loss+=F.cross_entropy(probs.view(1, -1).to(device), torch.tensor([y]).to(device))\n",
    "            \"\"\"explisit soft max is not used to convert to probs is cross \n",
    "            entrophy loss has inbuilt softmax  function adding softmax explisity\n",
    "            will effect adversly by smoothing again on smoothed values will decrese \n",
    "            the weightage for class with high prob \"\"\"\n",
    "#             break\n",
    "        loss /= len(x)\n",
    "        loss += 1*L_inter(torch.cat((hate_space, not_hate_space))) + 1*L_intra(torch.stack([hate_space, not_hate_space]))\n",
    "            \n",
    "        optimizer.zero_grad()\n",
    "        \n",
    "        loss.backward()\n",
    "        optimizer.step()\n",
    "#         print(hate_space.grad,hate_space_weights.grad)\n",
    "    correct = 0\n",
    "    total = len(y_test)\n",
    "\n",
    "    true = []\n",
    "    preds = []\n",
    "\n",
    "    with torch.inference_mode():\n",
    "        for i, batch in enumerate(test_loader):\n",
    "#             if i==100:\n",
    "#                 break\n",
    "\n",
    "            X, y = batch\n",
    "            Psk_hate, Psk_not_hate = model1(X)\n",
    "\n",
    "            y_predict = torch.argmax(torch.tensor([Psk_hate.mean().item(), Psk_not_hate.mean().item()]))\n",
    "\n",
    "            true.extend(y)\n",
    "            preds.append(y_predict)\n",
    "\n",
    "            cur = torch.eq(y_predict, y)\n",
    "\n",
    "            correct += torch.sum(cur)\n",
    "    pprev=prev\n",
    "    prev=curr\n",
    "    print(f\"Test Accuracy: {correct/total}\")\n",
    "    curr=correct/total\n",
    "    print(precision_score(y_test, preds, average='macro'))\n",
    "    print(recall_score(y_test, preds, average='macro'))\n",
    "  "
   ]
  },
  {
   "cell_type": "code",
   "execution_count": 26,
   "id": "fc973567",
   "metadata": {
    "execution": {
     "iopub.execute_input": "2024-05-05T09:59:44.998851Z",
     "iopub.status.busy": "2024-05-05T09:59:44.998501Z",
     "iopub.status.idle": "2024-05-05T09:59:45.007329Z",
     "shell.execute_reply": "2024-05-05T09:59:45.006252Z"
    },
    "papermill": {
     "duration": 0.025555,
     "end_time": "2024-05-05T09:59:45.009311",
     "exception": false,
     "start_time": "2024-05-05T09:59:44.983756",
     "status": "completed"
    },
    "tags": []
   },
   "outputs": [
    {
     "name": "stdout",
     "output_type": "stream",
     "text": [
      "tensor([[ 0.8066],\n",
      "        [ 0.2633],\n",
      "        [ 0.3671],\n",
      "        [ 0.6730],\n",
      "        [ 1.1703],\n",
      "        [ 0.5149],\n",
      "        [ 0.4067],\n",
      "        [ 0.3660],\n",
      "        [-0.1735],\n",
      "        [ 0.0838],\n",
      "        [ 0.7872]], device='cuda:0', requires_grad=True) tensor([[ 0.3909],\n",
      "        [ 0.2029],\n",
      "        [ 0.2682],\n",
      "        [ 0.6173],\n",
      "        [ 0.7399],\n",
      "        [ 0.4918],\n",
      "        [ 0.3752],\n",
      "        [ 0.3130],\n",
      "        [-0.0143],\n",
      "        [-0.0584],\n",
      "        [ 0.4951]], device='cuda:0', requires_grad=True)\n"
     ]
    }
   ],
   "source": [
    "print(hate_space_weights,not_hate_space_weights)"
   ]
  },
  {
   "cell_type": "code",
   "execution_count": 27,
   "id": "2d8f332a",
   "metadata": {
    "execution": {
     "iopub.execute_input": "2024-05-05T09:59:45.037669Z",
     "iopub.status.busy": "2024-05-05T09:59:45.037362Z",
     "iopub.status.idle": "2024-05-05T09:59:45.046553Z",
     "shell.execute_reply": "2024-05-05T09:59:45.045769Z"
    },
    "papermill": {
     "duration": 0.025284,
     "end_time": "2024-05-05T09:59:45.048494",
     "exception": false,
     "start_time": "2024-05-05T09:59:45.023210",
     "status": "completed"
    },
    "tags": []
   },
   "outputs": [
    {
     "name": "stdout",
     "output_type": "stream",
     "text": [
      "tensor([[ 1.6038, -1.5659,  0.6457,  ...,  1.2650,  0.3202,  1.5032],\n",
      "        [ 3.5712,  4.5294,  1.3242,  ...,  1.1436,  1.1454, -3.9265],\n",
      "        [-2.4002,  3.6308, -4.2167,  ...,  0.8800, -4.4099, -2.3879],\n",
      "        ...,\n",
      "        [-4.3117,  1.6197,  2.9765,  ...,  3.2159, -2.3051, -3.2518],\n",
      "        [ 4.7351,  7.2255,  4.2718,  ...,  4.5184,  3.6693,  5.9725],\n",
      "        [-1.6805, -1.6542, -2.1949,  ..., -2.0371, -2.2772,  1.3946]],\n",
      "       device='cuda:0', requires_grad=True) tensor([[-2.4144, -1.6238,  1.1095,  ..., -1.6856,  0.4545,  1.7856],\n",
      "        [-4.0897,  3.8164,  1.6111,  ...,  3.5819,  1.7304, -3.1038],\n",
      "        [ 2.0563, -2.0605,  1.6224,  ...,  2.4679, -5.2721,  3.2191],\n",
      "        ...,\n",
      "        [ 3.3990, -4.2220,  4.5054,  ..., -4.8844, -3.1756,  3.8616],\n",
      "        [ 3.8960, -4.0345, -4.2510,  ..., -4.7830, -3.3777,  3.6780],\n",
      "        [-2.1914, -2.0175,  1.0585,  ...,  1.2781,  0.3304, -2.3755]],\n",
      "       device='cuda:0', requires_grad=True)\n"
     ]
    }
   ],
   "source": [
    "print(hate_space,not_hate_space)"
   ]
  },
  {
   "cell_type": "code",
   "execution_count": 28,
   "id": "53d986d8",
   "metadata": {
    "execution": {
     "iopub.execute_input": "2024-05-05T09:59:45.078740Z",
     "iopub.status.busy": "2024-05-05T09:59:45.077911Z",
     "iopub.status.idle": "2024-05-05T09:59:45.083849Z",
     "shell.execute_reply": "2024-05-05T09:59:45.082955Z"
    },
    "papermill": {
     "duration": 0.023091,
     "end_time": "2024-05-05T09:59:45.085791",
     "exception": false,
     "start_time": "2024-05-05T09:59:45.062700",
     "status": "completed"
    },
    "tags": []
   },
   "outputs": [],
   "source": [
    "def save_bert_model(model,tokenizer,params):\n",
    "        output_dir = 'Saved/bert'\n",
    "#         if(params['train_att']):\n",
    "#             if(params['lambda_attn']>=1):\n",
    "#                 params['lambda_attn']=int(params['lambda_attn'])\n",
    "\n",
    "#             output_dir =  output_dir+str(params['supervised_layer_pos'])+'_'+str(params['num_supervised_heads'])+'_'+str(params['num_classes'])+'_'+str(params['lambda_attn'])+'/'\n",
    "            \n",
    "#         else:\n",
    "#             output_dir=output_dir+'_'+str(params['num_classes'])+'/'\n",
    "#         print(output_dir)\n",
    "#         # Create output directory if needed\n",
    "#         if not os.path.exists(output_dir):\n",
    "#             os.makedirs(output_dir)\n",
    "\n",
    "#         print(\"Saving model to %s\" % output_dir)\n",
    "\n",
    "        # Save a trained model, configuration and tokenizer using `save_pretrained()`.\n",
    "        # They can then be reloaded using `from_pretrained()`\n",
    "        model_to_save = model.module if hasattr(model, 'module') else model  # Take care of distributed/parallel training\n",
    "        model_to_save.save_pretrained(output_dir)\n",
    "        tokenizer.save_pretrained(output_dir)"
   ]
  },
  {
   "cell_type": "code",
   "execution_count": 29,
   "id": "fae45b74",
   "metadata": {
    "execution": {
     "iopub.execute_input": "2024-05-05T09:59:45.114288Z",
     "iopub.status.busy": "2024-05-05T09:59:45.113992Z",
     "iopub.status.idle": "2024-05-05T09:59:46.030488Z",
     "shell.execute_reply": "2024-05-05T09:59:46.029590Z"
    },
    "papermill": {
     "duration": 0.933593,
     "end_time": "2024-05-05T09:59:46.033148",
     "exception": false,
     "start_time": "2024-05-05T09:59:45.099555",
     "status": "completed"
    },
    "tags": []
   },
   "outputs": [],
   "source": [
    "save_bert_model(model,tokenizer,model.parameters())"
   ]
  },
  {
   "cell_type": "code",
   "execution_count": 30,
   "id": "ef8b4258",
   "metadata": {
    "execution": {
     "iopub.execute_input": "2024-05-05T09:59:46.062411Z",
     "iopub.status.busy": "2024-05-05T09:59:46.061560Z",
     "iopub.status.idle": "2024-05-05T09:59:46.070038Z",
     "shell.execute_reply": "2024-05-05T09:59:46.069065Z"
    },
    "papermill": {
     "duration": 0.025589,
     "end_time": "2024-05-05T09:59:46.072263",
     "exception": false,
     "start_time": "2024-05-05T09:59:46.046674",
     "status": "completed"
    },
    "tags": []
   },
   "outputs": [],
   "source": [
    "torch.save(hate_space, 'hatespace.pt')\n",
    "torch.save(hate_space_weights, 'hatespace.pt_weights')\n",
    "torch.save(not_hate_space, 'not_hatespace.pt')\n",
    "torch.save(not_hate_space_weights, 'not_hatespace_weights.pt')"
   ]
  }
 ],
 "metadata": {
  "kaggle": {
   "accelerator": "gpu",
   "dataSources": [
    {
     "datasetId": 4610716,
     "sourceId": 7860112,
     "sourceType": "datasetVersion"
    },
    {
     "datasetId": 4628067,
     "sourceId": 7884400,
     "sourceType": "datasetVersion"
    }
   ],
   "dockerImageVersionId": 30665,
   "isGpuEnabled": true,
   "isInternetEnabled": true,
   "language": "python",
   "sourceType": "notebook"
  },
  "kernelspec": {
   "display_name": "Python 3",
   "language": "python",
   "name": "python3"
  },
  "language_info": {
   "codemirror_mode": {
    "name": "ipython",
    "version": 3
   },
   "file_extension": ".py",
   "mimetype": "text/x-python",
   "name": "python",
   "nbconvert_exporter": "python",
   "pygments_lexer": "ipython3",
   "version": "3.10.13"
  },
  "papermill": {
   "default_parameters": {},
   "duration": 7553.101242,
   "end_time": "2024-05-05T09:59:47.827895",
   "environment_variables": {},
   "exception": null,
   "input_path": "__notebook__.ipynb",
   "output_path": "__notebook__.ipynb",
   "parameters": {},
   "start_time": "2024-05-05T07:53:54.726653",
   "version": "2.5.0"
  },
  "widgets": {
   "application/vnd.jupyter.widget-state+json": {
    "state": {
     "03ea4a99639d4e40a1d2d78dee277702": {
      "model_module": "@jupyter-widgets/controls",
      "model_module_version": "1.5.0",
      "model_name": "FloatProgressModel",
      "state": {
       "_dom_classes": [],
       "_model_module": "@jupyter-widgets/controls",
       "_model_module_version": "1.5.0",
       "_model_name": "FloatProgressModel",
       "_view_count": null,
       "_view_module": "@jupyter-widgets/controls",
       "_view_module_version": "1.5.0",
       "_view_name": "ProgressView",
       "bar_style": "success",
       "description": "",
       "description_tooltip": null,
       "layout": "IPY_MODEL_7c088fa957d24075b690ac47cb35cedf",
       "max": 231508.0,
       "min": 0.0,
       "orientation": "horizontal",
       "style": "IPY_MODEL_b7e1151e05ba4875ac199f6465fd4552",
       "value": 231508.0
      }
     },
     "04aa0edecbca48d784987ba8db2394f1": {
      "model_module": "@jupyter-widgets/base",
      "model_module_version": "1.2.0",
      "model_name": "LayoutModel",
      "state": {
       "_model_module": "@jupyter-widgets/base",
       "_model_module_version": "1.2.0",
       "_model_name": "LayoutModel",
       "_view_count": null,
       "_view_module": "@jupyter-widgets/base",
       "_view_module_version": "1.2.0",
       "_view_name": "LayoutView",
       "align_content": null,
       "align_items": null,
       "align_self": null,
       "border": null,
       "bottom": null,
       "display": null,
       "flex": null,
       "flex_flow": null,
       "grid_area": null,
       "grid_auto_columns": null,
       "grid_auto_flow": null,
       "grid_auto_rows": null,
       "grid_column": null,
       "grid_gap": null,
       "grid_row": null,
       "grid_template_areas": null,
       "grid_template_columns": null,
       "grid_template_rows": null,
       "height": null,
       "justify_content": null,
       "justify_items": null,
       "left": null,
       "margin": null,
       "max_height": null,
       "max_width": null,
       "min_height": null,
       "min_width": null,
       "object_fit": null,
       "object_position": null,
       "order": null,
       "overflow": null,
       "overflow_x": null,
       "overflow_y": null,
       "padding": null,
       "right": null,
       "top": null,
       "visibility": null,
       "width": null
      }
     },
     "05978c0455314c199c8c04861d186532": {
      "model_module": "@jupyter-widgets/base",
      "model_module_version": "1.2.0",
      "model_name": "LayoutModel",
      "state": {
       "_model_module": "@jupyter-widgets/base",
       "_model_module_version": "1.2.0",
       "_model_name": "LayoutModel",
       "_view_count": null,
       "_view_module": "@jupyter-widgets/base",
       "_view_module_version": "1.2.0",
       "_view_name": "LayoutView",
       "align_content": null,
       "align_items": null,
       "align_self": null,
       "border": null,
       "bottom": null,
       "display": null,
       "flex": null,
       "flex_flow": null,
       "grid_area": null,
       "grid_auto_columns": null,
       "grid_auto_flow": null,
       "grid_auto_rows": null,
       "grid_column": null,
       "grid_gap": null,
       "grid_row": null,
       "grid_template_areas": null,
       "grid_template_columns": null,
       "grid_template_rows": null,
       "height": null,
       "justify_content": null,
       "justify_items": null,
       "left": null,
       "margin": null,
       "max_height": null,
       "max_width": null,
       "min_height": null,
       "min_width": null,
       "object_fit": null,
       "object_position": null,
       "order": null,
       "overflow": null,
       "overflow_x": null,
       "overflow_y": null,
       "padding": null,
       "right": null,
       "top": null,
       "visibility": null,
       "width": null
      }
     },
     "0b8bd6c860ea42a98780c65abce4a970": {
      "model_module": "@jupyter-widgets/base",
      "model_module_version": "1.2.0",
      "model_name": "LayoutModel",
      "state": {
       "_model_module": "@jupyter-widgets/base",
       "_model_module_version": "1.2.0",
       "_model_name": "LayoutModel",
       "_view_count": null,
       "_view_module": "@jupyter-widgets/base",
       "_view_module_version": "1.2.0",
       "_view_name": "LayoutView",
       "align_content": null,
       "align_items": null,
       "align_self": null,
       "border": null,
       "bottom": null,
       "display": null,
       "flex": null,
       "flex_flow": null,
       "grid_area": null,
       "grid_auto_columns": null,
       "grid_auto_flow": null,
       "grid_auto_rows": null,
       "grid_column": null,
       "grid_gap": null,
       "grid_row": null,
       "grid_template_areas": null,
       "grid_template_columns": null,
       "grid_template_rows": null,
       "height": null,
       "justify_content": null,
       "justify_items": null,
       "left": null,
       "margin": null,
       "max_height": null,
       "max_width": null,
       "min_height": null,
       "min_width": null,
       "object_fit": null,
       "object_position": null,
       "order": null,
       "overflow": null,
       "overflow_x": null,
       "overflow_y": null,
       "padding": null,
       "right": null,
       "top": null,
       "visibility": null,
       "width": null
      }
     },
     "0d56de1ab6084b20b9d74eb504fb56f5": {
      "model_module": "@jupyter-widgets/controls",
      "model_module_version": "1.5.0",
      "model_name": "HTMLModel",
      "state": {
       "_dom_classes": [],
       "_model_module": "@jupyter-widgets/controls",
       "_model_module_version": "1.5.0",
       "_model_name": "HTMLModel",
       "_view_count": null,
       "_view_module": "@jupyter-widgets/controls",
       "_view_module_version": "1.5.0",
       "_view_name": "HTMLView",
       "description": "",
       "description_tooltip": null,
       "layout": "IPY_MODEL_3b105d0bc3ed45b4a2085b6c8322b399",
       "placeholder": "​",
       "style": "IPY_MODEL_c04ed1198a5e4c5795aaf435bb5a0b50",
       "value": "tokenizer.json: 100%"
      }
     },
     "0ec86e16e2094e228fe627beb0dc8641": {
      "model_module": "@jupyter-widgets/controls",
      "model_module_version": "1.5.0",
      "model_name": "DescriptionStyleModel",
      "state": {
       "_model_module": "@jupyter-widgets/controls",
       "_model_module_version": "1.5.0",
       "_model_name": "DescriptionStyleModel",
       "_view_count": null,
       "_view_module": "@jupyter-widgets/base",
       "_view_module_version": "1.2.0",
       "_view_name": "StyleView",
       "description_width": ""
      }
     },
     "0fa7de8b1ce443979158e971196557ee": {
      "model_module": "@jupyter-widgets/base",
      "model_module_version": "1.2.0",
      "model_name": "LayoutModel",
      "state": {
       "_model_module": "@jupyter-widgets/base",
       "_model_module_version": "1.2.0",
       "_model_name": "LayoutModel",
       "_view_count": null,
       "_view_module": "@jupyter-widgets/base",
       "_view_module_version": "1.2.0",
       "_view_name": "LayoutView",
       "align_content": null,
       "align_items": null,
       "align_self": null,
       "border": null,
       "bottom": null,
       "display": null,
       "flex": null,
       "flex_flow": null,
       "grid_area": null,
       "grid_auto_columns": null,
       "grid_auto_flow": null,
       "grid_auto_rows": null,
       "grid_column": null,
       "grid_gap": null,
       "grid_row": null,
       "grid_template_areas": null,
       "grid_template_columns": null,
       "grid_template_rows": null,
       "height": null,
       "justify_content": null,
       "justify_items": null,
       "left": null,
       "margin": null,
       "max_height": null,
       "max_width": null,
       "min_height": null,
       "min_width": null,
       "object_fit": null,
       "object_position": null,
       "order": null,
       "overflow": null,
       "overflow_x": null,
       "overflow_y": null,
       "padding": null,
       "right": null,
       "top": null,
       "visibility": null,
       "width": null
      }
     },
     "1c00b4f7fc5a4a06b565e28f46aec159": {
      "model_module": "@jupyter-widgets/controls",
      "model_module_version": "1.5.0",
      "model_name": "HTMLModel",
      "state": {
       "_dom_classes": [],
       "_model_module": "@jupyter-widgets/controls",
       "_model_module_version": "1.5.0",
       "_model_name": "HTMLModel",
       "_view_count": null,
       "_view_module": "@jupyter-widgets/controls",
       "_view_module_version": "1.5.0",
       "_view_name": "HTMLView",
       "description": "",
       "description_tooltip": null,
       "layout": "IPY_MODEL_3ea5fa839876414380e12e284f9515c6",
       "placeholder": "​",
       "style": "IPY_MODEL_7fb7232716b24f50807e47be0cb6a48d",
       "value": " 570/570 [00:00&lt;00:00, 52.4kB/s]"
      }
     },
     "1d9917b5f39e4be6959c1338e4efe607": {
      "model_module": "@jupyter-widgets/controls",
      "model_module_version": "1.5.0",
      "model_name": "HTMLModel",
      "state": {
       "_dom_classes": [],
       "_model_module": "@jupyter-widgets/controls",
       "_model_module_version": "1.5.0",
       "_model_name": "HTMLModel",
       "_view_count": null,
       "_view_module": "@jupyter-widgets/controls",
       "_view_module_version": "1.5.0",
       "_view_name": "HTMLView",
       "description": "",
       "description_tooltip": null,
       "layout": "IPY_MODEL_2ce7ac2428144bb4be637391e5187bc5",
       "placeholder": "​",
       "style": "IPY_MODEL_5e819ae969e94d078ec0d7bce610853f",
       "value": " 48.0/48.0 [00:00&lt;00:00, 3.94kB/s]"
      }
     },
     "1d9a485c13684dc783dc9f203616eff1": {
      "model_module": "@jupyter-widgets/controls",
      "model_module_version": "1.5.0",
      "model_name": "DescriptionStyleModel",
      "state": {
       "_model_module": "@jupyter-widgets/controls",
       "_model_module_version": "1.5.0",
       "_model_name": "DescriptionStyleModel",
       "_view_count": null,
       "_view_module": "@jupyter-widgets/base",
       "_view_module_version": "1.2.0",
       "_view_name": "StyleView",
       "description_width": ""
      }
     },
     "21656a50f17547db95460a1bfde7f519": {
      "model_module": "@jupyter-widgets/controls",
      "model_module_version": "1.5.0",
      "model_name": "HTMLModel",
      "state": {
       "_dom_classes": [],
       "_model_module": "@jupyter-widgets/controls",
       "_model_module_version": "1.5.0",
       "_model_name": "HTMLModel",
       "_view_count": null,
       "_view_module": "@jupyter-widgets/controls",
       "_view_module_version": "1.5.0",
       "_view_name": "HTMLView",
       "description": "",
       "description_tooltip": null,
       "layout": "IPY_MODEL_67c0d6cf8c73453d9f2fb39cae23758d",
       "placeholder": "​",
       "style": "IPY_MODEL_f5846e5183e94deba5880e691772481d",
       "value": " 440M/440M [00:01&lt;00:00, 263MB/s]"
      }
     },
     "248030661410439e8c0a70c70e84c638": {
      "model_module": "@jupyter-widgets/base",
      "model_module_version": "1.2.0",
      "model_name": "LayoutModel",
      "state": {
       "_model_module": "@jupyter-widgets/base",
       "_model_module_version": "1.2.0",
       "_model_name": "LayoutModel",
       "_view_count": null,
       "_view_module": "@jupyter-widgets/base",
       "_view_module_version": "1.2.0",
       "_view_name": "LayoutView",
       "align_content": null,
       "align_items": null,
       "align_self": null,
       "border": null,
       "bottom": null,
       "display": null,
       "flex": null,
       "flex_flow": null,
       "grid_area": null,
       "grid_auto_columns": null,
       "grid_auto_flow": null,
       "grid_auto_rows": null,
       "grid_column": null,
       "grid_gap": null,
       "grid_row": null,
       "grid_template_areas": null,
       "grid_template_columns": null,
       "grid_template_rows": null,
       "height": null,
       "justify_content": null,
       "justify_items": null,
       "left": null,
       "margin": null,
       "max_height": null,
       "max_width": null,
       "min_height": null,
       "min_width": null,
       "object_fit": null,
       "object_position": null,
       "order": null,
       "overflow": null,
       "overflow_x": null,
       "overflow_y": null,
       "padding": null,
       "right": null,
       "top": null,
       "visibility": null,
       "width": null
      }
     },
     "280db2a1030c4589ac7669954806e2e7": {
      "model_module": "@jupyter-widgets/controls",
      "model_module_version": "1.5.0",
      "model_name": "ProgressStyleModel",
      "state": {
       "_model_module": "@jupyter-widgets/controls",
       "_model_module_version": "1.5.0",
       "_model_name": "ProgressStyleModel",
       "_view_count": null,
       "_view_module": "@jupyter-widgets/base",
       "_view_module_version": "1.2.0",
       "_view_name": "StyleView",
       "bar_color": null,
       "description_width": ""
      }
     },
     "2a4185ee7ef94c3b817f0a7417b1ad55": {
      "model_module": "@jupyter-widgets/base",
      "model_module_version": "1.2.0",
      "model_name": "LayoutModel",
      "state": {
       "_model_module": "@jupyter-widgets/base",
       "_model_module_version": "1.2.0",
       "_model_name": "LayoutModel",
       "_view_count": null,
       "_view_module": "@jupyter-widgets/base",
       "_view_module_version": "1.2.0",
       "_view_name": "LayoutView",
       "align_content": null,
       "align_items": null,
       "align_self": null,
       "border": null,
       "bottom": null,
       "display": null,
       "flex": null,
       "flex_flow": null,
       "grid_area": null,
       "grid_auto_columns": null,
       "grid_auto_flow": null,
       "grid_auto_rows": null,
       "grid_column": null,
       "grid_gap": null,
       "grid_row": null,
       "grid_template_areas": null,
       "grid_template_columns": null,
       "grid_template_rows": null,
       "height": null,
       "justify_content": null,
       "justify_items": null,
       "left": null,
       "margin": null,
       "max_height": null,
       "max_width": null,
       "min_height": null,
       "min_width": null,
       "object_fit": null,
       "object_position": null,
       "order": null,
       "overflow": null,
       "overflow_x": null,
       "overflow_y": null,
       "padding": null,
       "right": null,
       "top": null,
       "visibility": null,
       "width": null
      }
     },
     "2ce7ac2428144bb4be637391e5187bc5": {
      "model_module": "@jupyter-widgets/base",
      "model_module_version": "1.2.0",
      "model_name": "LayoutModel",
      "state": {
       "_model_module": "@jupyter-widgets/base",
       "_model_module_version": "1.2.0",
       "_model_name": "LayoutModel",
       "_view_count": null,
       "_view_module": "@jupyter-widgets/base",
       "_view_module_version": "1.2.0",
       "_view_name": "LayoutView",
       "align_content": null,
       "align_items": null,
       "align_self": null,
       "border": null,
       "bottom": null,
       "display": null,
       "flex": null,
       "flex_flow": null,
       "grid_area": null,
       "grid_auto_columns": null,
       "grid_auto_flow": null,
       "grid_auto_rows": null,
       "grid_column": null,
       "grid_gap": null,
       "grid_row": null,
       "grid_template_areas": null,
       "grid_template_columns": null,
       "grid_template_rows": null,
       "height": null,
       "justify_content": null,
       "justify_items": null,
       "left": null,
       "margin": null,
       "max_height": null,
       "max_width": null,
       "min_height": null,
       "min_width": null,
       "object_fit": null,
       "object_position": null,
       "order": null,
       "overflow": null,
       "overflow_x": null,
       "overflow_y": null,
       "padding": null,
       "right": null,
       "top": null,
       "visibility": null,
       "width": null
      }
     },
     "3b105d0bc3ed45b4a2085b6c8322b399": {
      "model_module": "@jupyter-widgets/base",
      "model_module_version": "1.2.0",
      "model_name": "LayoutModel",
      "state": {
       "_model_module": "@jupyter-widgets/base",
       "_model_module_version": "1.2.0",
       "_model_name": "LayoutModel",
       "_view_count": null,
       "_view_module": "@jupyter-widgets/base",
       "_view_module_version": "1.2.0",
       "_view_name": "LayoutView",
       "align_content": null,
       "align_items": null,
       "align_self": null,
       "border": null,
       "bottom": null,
       "display": null,
       "flex": null,
       "flex_flow": null,
       "grid_area": null,
       "grid_auto_columns": null,
       "grid_auto_flow": null,
       "grid_auto_rows": null,
       "grid_column": null,
       "grid_gap": null,
       "grid_row": null,
       "grid_template_areas": null,
       "grid_template_columns": null,
       "grid_template_rows": null,
       "height": null,
       "justify_content": null,
       "justify_items": null,
       "left": null,
       "margin": null,
       "max_height": null,
       "max_width": null,
       "min_height": null,
       "min_width": null,
       "object_fit": null,
       "object_position": null,
       "order": null,
       "overflow": null,
       "overflow_x": null,
       "overflow_y": null,
       "padding": null,
       "right": null,
       "top": null,
       "visibility": null,
       "width": null
      }
     },
     "3ea5fa839876414380e12e284f9515c6": {
      "model_module": "@jupyter-widgets/base",
      "model_module_version": "1.2.0",
      "model_name": "LayoutModel",
      "state": {
       "_model_module": "@jupyter-widgets/base",
       "_model_module_version": "1.2.0",
       "_model_name": "LayoutModel",
       "_view_count": null,
       "_view_module": "@jupyter-widgets/base",
       "_view_module_version": "1.2.0",
       "_view_name": "LayoutView",
       "align_content": null,
       "align_items": null,
       "align_self": null,
       "border": null,
       "bottom": null,
       "display": null,
       "flex": null,
       "flex_flow": null,
       "grid_area": null,
       "grid_auto_columns": null,
       "grid_auto_flow": null,
       "grid_auto_rows": null,
       "grid_column": null,
       "grid_gap": null,
       "grid_row": null,
       "grid_template_areas": null,
       "grid_template_columns": null,
       "grid_template_rows": null,
       "height": null,
       "justify_content": null,
       "justify_items": null,
       "left": null,
       "margin": null,
       "max_height": null,
       "max_width": null,
       "min_height": null,
       "min_width": null,
       "object_fit": null,
       "object_position": null,
       "order": null,
       "overflow": null,
       "overflow_x": null,
       "overflow_y": null,
       "padding": null,
       "right": null,
       "top": null,
       "visibility": null,
       "width": null
      }
     },
     "491a834a5bf2414e8decd980e456806a": {
      "model_module": "@jupyter-widgets/controls",
      "model_module_version": "1.5.0",
      "model_name": "HBoxModel",
      "state": {
       "_dom_classes": [],
       "_model_module": "@jupyter-widgets/controls",
       "_model_module_version": "1.5.0",
       "_model_name": "HBoxModel",
       "_view_count": null,
       "_view_module": "@jupyter-widgets/controls",
       "_view_module_version": "1.5.0",
       "_view_name": "HBoxView",
       "box_style": "",
       "children": [
        "IPY_MODEL_b828a2f48bc04cdeb20b56f5a0f20f37",
        "IPY_MODEL_63da1169bc78435983683d626009233f",
        "IPY_MODEL_1d9917b5f39e4be6959c1338e4efe607"
       ],
       "layout": "IPY_MODEL_d74665036da54d0e8f1bc89bbe3a6a3b"
      }
     },
     "4a9e7d20b79a421eadc16cb60c98cad4": {
      "model_module": "@jupyter-widgets/controls",
      "model_module_version": "1.5.0",
      "model_name": "HTMLModel",
      "state": {
       "_dom_classes": [],
       "_model_module": "@jupyter-widgets/controls",
       "_model_module_version": "1.5.0",
       "_model_name": "HTMLModel",
       "_view_count": null,
       "_view_module": "@jupyter-widgets/controls",
       "_view_module_version": "1.5.0",
       "_view_name": "HTMLView",
       "description": "",
       "description_tooltip": null,
       "layout": "IPY_MODEL_04aa0edecbca48d784987ba8db2394f1",
       "placeholder": "​",
       "style": "IPY_MODEL_a7e962533517461aad95cd90495ad193",
       "value": " 232k/232k [00:00&lt;00:00, 8.62MB/s]"
      }
     },
     "590c3a3d28394124b9e15fcc3d2d3976": {
      "model_module": "@jupyter-widgets/controls",
      "model_module_version": "1.5.0",
      "model_name": "HBoxModel",
      "state": {
       "_dom_classes": [],
       "_model_module": "@jupyter-widgets/controls",
       "_model_module_version": "1.5.0",
       "_model_name": "HBoxModel",
       "_view_count": null,
       "_view_module": "@jupyter-widgets/controls",
       "_view_module_version": "1.5.0",
       "_view_name": "HBoxView",
       "box_style": "",
       "children": [
        "IPY_MODEL_a7052b5c0a6e42198f47112723589eaf",
        "IPY_MODEL_81a43f6ecc2541998e2c252b5e1ac00f",
        "IPY_MODEL_1c00b4f7fc5a4a06b565e28f46aec159"
       ],
       "layout": "IPY_MODEL_ed905bb008bc45bb883994824889148b"
      }
     },
     "5bbc97254ad34a1bbe370502db366fc9": {
      "model_module": "@jupyter-widgets/controls",
      "model_module_version": "1.5.0",
      "model_name": "HBoxModel",
      "state": {
       "_dom_classes": [],
       "_model_module": "@jupyter-widgets/controls",
       "_model_module_version": "1.5.0",
       "_model_name": "HBoxModel",
       "_view_count": null,
       "_view_module": "@jupyter-widgets/controls",
       "_view_module_version": "1.5.0",
       "_view_name": "HBoxView",
       "box_style": "",
       "children": [
        "IPY_MODEL_8d5f16f34e5e4ceba0b3b9c3d8e1c8e0",
        "IPY_MODEL_e2346a09f32b482797170f6f438189c3",
        "IPY_MODEL_21656a50f17547db95460a1bfde7f519"
       ],
       "layout": "IPY_MODEL_0fa7de8b1ce443979158e971196557ee"
      }
     },
     "5e819ae969e94d078ec0d7bce610853f": {
      "model_module": "@jupyter-widgets/controls",
      "model_module_version": "1.5.0",
      "model_name": "DescriptionStyleModel",
      "state": {
       "_model_module": "@jupyter-widgets/controls",
       "_model_module_version": "1.5.0",
       "_model_name": "DescriptionStyleModel",
       "_view_count": null,
       "_view_module": "@jupyter-widgets/base",
       "_view_module_version": "1.2.0",
       "_view_name": "StyleView",
       "description_width": ""
      }
     },
     "63da1169bc78435983683d626009233f": {
      "model_module": "@jupyter-widgets/controls",
      "model_module_version": "1.5.0",
      "model_name": "FloatProgressModel",
      "state": {
       "_dom_classes": [],
       "_model_module": "@jupyter-widgets/controls",
       "_model_module_version": "1.5.0",
       "_model_name": "FloatProgressModel",
       "_view_count": null,
       "_view_module": "@jupyter-widgets/controls",
       "_view_module_version": "1.5.0",
       "_view_name": "ProgressView",
       "bar_style": "success",
       "description": "",
       "description_tooltip": null,
       "layout": "IPY_MODEL_05978c0455314c199c8c04861d186532",
       "max": 48.0,
       "min": 0.0,
       "orientation": "horizontal",
       "style": "IPY_MODEL_280db2a1030c4589ac7669954806e2e7",
       "value": 48.0
      }
     },
     "6657950fa9a542078335a7190e1638d1": {
      "model_module": "@jupyter-widgets/controls",
      "model_module_version": "1.5.0",
      "model_name": "FloatProgressModel",
      "state": {
       "_dom_classes": [],
       "_model_module": "@jupyter-widgets/controls",
       "_model_module_version": "1.5.0",
       "_model_name": "FloatProgressModel",
       "_view_count": null,
       "_view_module": "@jupyter-widgets/controls",
       "_view_module_version": "1.5.0",
       "_view_name": "ProgressView",
       "bar_style": "success",
       "description": "",
       "description_tooltip": null,
       "layout": "IPY_MODEL_755c628427f44c68aa16994907863e06",
       "max": 466062.0,
       "min": 0.0,
       "orientation": "horizontal",
       "style": "IPY_MODEL_fa4336b17ea64984ba4d09c8835daa09",
       "value": 466062.0
      }
     },
     "67c0d6cf8c73453d9f2fb39cae23758d": {
      "model_module": "@jupyter-widgets/base",
      "model_module_version": "1.2.0",
      "model_name": "LayoutModel",
      "state": {
       "_model_module": "@jupyter-widgets/base",
       "_model_module_version": "1.2.0",
       "_model_name": "LayoutModel",
       "_view_count": null,
       "_view_module": "@jupyter-widgets/base",
       "_view_module_version": "1.2.0",
       "_view_name": "LayoutView",
       "align_content": null,
       "align_items": null,
       "align_self": null,
       "border": null,
       "bottom": null,
       "display": null,
       "flex": null,
       "flex_flow": null,
       "grid_area": null,
       "grid_auto_columns": null,
       "grid_auto_flow": null,
       "grid_auto_rows": null,
       "grid_column": null,
       "grid_gap": null,
       "grid_row": null,
       "grid_template_areas": null,
       "grid_template_columns": null,
       "grid_template_rows": null,
       "height": null,
       "justify_content": null,
       "justify_items": null,
       "left": null,
       "margin": null,
       "max_height": null,
       "max_width": null,
       "min_height": null,
       "min_width": null,
       "object_fit": null,
       "object_position": null,
       "order": null,
       "overflow": null,
       "overflow_x": null,
       "overflow_y": null,
       "padding": null,
       "right": null,
       "top": null,
       "visibility": null,
       "width": null
      }
     },
     "69389b0ee7e34dbb964be6c61a4ef2e9": {
      "model_module": "@jupyter-widgets/controls",
      "model_module_version": "1.5.0",
      "model_name": "HTMLModel",
      "state": {
       "_dom_classes": [],
       "_model_module": "@jupyter-widgets/controls",
       "_model_module_version": "1.5.0",
       "_model_name": "HTMLModel",
       "_view_count": null,
       "_view_module": "@jupyter-widgets/controls",
       "_view_module_version": "1.5.0",
       "_view_name": "HTMLView",
       "description": "",
       "description_tooltip": null,
       "layout": "IPY_MODEL_850357aaef87404e9c4f67b7f4a2c91f",
       "placeholder": "​",
       "style": "IPY_MODEL_e829aadf43de4b47adc3cc7c59386a88",
       "value": " 466k/466k [00:00&lt;00:00, 34.9MB/s]"
      }
     },
     "713278d49011466b8b316b7debabedae": {
      "model_module": "@jupyter-widgets/base",
      "model_module_version": "1.2.0",
      "model_name": "LayoutModel",
      "state": {
       "_model_module": "@jupyter-widgets/base",
       "_model_module_version": "1.2.0",
       "_model_name": "LayoutModel",
       "_view_count": null,
       "_view_module": "@jupyter-widgets/base",
       "_view_module_version": "1.2.0",
       "_view_name": "LayoutView",
       "align_content": null,
       "align_items": null,
       "align_self": null,
       "border": null,
       "bottom": null,
       "display": null,
       "flex": null,
       "flex_flow": null,
       "grid_area": null,
       "grid_auto_columns": null,
       "grid_auto_flow": null,
       "grid_auto_rows": null,
       "grid_column": null,
       "grid_gap": null,
       "grid_row": null,
       "grid_template_areas": null,
       "grid_template_columns": null,
       "grid_template_rows": null,
       "height": null,
       "justify_content": null,
       "justify_items": null,
       "left": null,
       "margin": null,
       "max_height": null,
       "max_width": null,
       "min_height": null,
       "min_width": null,
       "object_fit": null,
       "object_position": null,
       "order": null,
       "overflow": null,
       "overflow_x": null,
       "overflow_y": null,
       "padding": null,
       "right": null,
       "top": null,
       "visibility": null,
       "width": null
      }
     },
     "755c628427f44c68aa16994907863e06": {
      "model_module": "@jupyter-widgets/base",
      "model_module_version": "1.2.0",
      "model_name": "LayoutModel",
      "state": {
       "_model_module": "@jupyter-widgets/base",
       "_model_module_version": "1.2.0",
       "_model_name": "LayoutModel",
       "_view_count": null,
       "_view_module": "@jupyter-widgets/base",
       "_view_module_version": "1.2.0",
       "_view_name": "LayoutView",
       "align_content": null,
       "align_items": null,
       "align_self": null,
       "border": null,
       "bottom": null,
       "display": null,
       "flex": null,
       "flex_flow": null,
       "grid_area": null,
       "grid_auto_columns": null,
       "grid_auto_flow": null,
       "grid_auto_rows": null,
       "grid_column": null,
       "grid_gap": null,
       "grid_row": null,
       "grid_template_areas": null,
       "grid_template_columns": null,
       "grid_template_rows": null,
       "height": null,
       "justify_content": null,
       "justify_items": null,
       "left": null,
       "margin": null,
       "max_height": null,
       "max_width": null,
       "min_height": null,
       "min_width": null,
       "object_fit": null,
       "object_position": null,
       "order": null,
       "overflow": null,
       "overflow_x": null,
       "overflow_y": null,
       "padding": null,
       "right": null,
       "top": null,
       "visibility": null,
       "width": null
      }
     },
     "7c088fa957d24075b690ac47cb35cedf": {
      "model_module": "@jupyter-widgets/base",
      "model_module_version": "1.2.0",
      "model_name": "LayoutModel",
      "state": {
       "_model_module": "@jupyter-widgets/base",
       "_model_module_version": "1.2.0",
       "_model_name": "LayoutModel",
       "_view_count": null,
       "_view_module": "@jupyter-widgets/base",
       "_view_module_version": "1.2.0",
       "_view_name": "LayoutView",
       "align_content": null,
       "align_items": null,
       "align_self": null,
       "border": null,
       "bottom": null,
       "display": null,
       "flex": null,
       "flex_flow": null,
       "grid_area": null,
       "grid_auto_columns": null,
       "grid_auto_flow": null,
       "grid_auto_rows": null,
       "grid_column": null,
       "grid_gap": null,
       "grid_row": null,
       "grid_template_areas": null,
       "grid_template_columns": null,
       "grid_template_rows": null,
       "height": null,
       "justify_content": null,
       "justify_items": null,
       "left": null,
       "margin": null,
       "max_height": null,
       "max_width": null,
       "min_height": null,
       "min_width": null,
       "object_fit": null,
       "object_position": null,
       "order": null,
       "overflow": null,
       "overflow_x": null,
       "overflow_y": null,
       "padding": null,
       "right": null,
       "top": null,
       "visibility": null,
       "width": null
      }
     },
     "7fb7232716b24f50807e47be0cb6a48d": {
      "model_module": "@jupyter-widgets/controls",
      "model_module_version": "1.5.0",
      "model_name": "DescriptionStyleModel",
      "state": {
       "_model_module": "@jupyter-widgets/controls",
       "_model_module_version": "1.5.0",
       "_model_name": "DescriptionStyleModel",
       "_view_count": null,
       "_view_module": "@jupyter-widgets/base",
       "_view_module_version": "1.2.0",
       "_view_name": "StyleView",
       "description_width": ""
      }
     },
     "81a43f6ecc2541998e2c252b5e1ac00f": {
      "model_module": "@jupyter-widgets/controls",
      "model_module_version": "1.5.0",
      "model_name": "FloatProgressModel",
      "state": {
       "_dom_classes": [],
       "_model_module": "@jupyter-widgets/controls",
       "_model_module_version": "1.5.0",
       "_model_name": "FloatProgressModel",
       "_view_count": null,
       "_view_module": "@jupyter-widgets/controls",
       "_view_module_version": "1.5.0",
       "_view_name": "ProgressView",
       "bar_style": "success",
       "description": "",
       "description_tooltip": null,
       "layout": "IPY_MODEL_af775e8495f44699bf0a8447b9842456",
       "max": 570.0,
       "min": 0.0,
       "orientation": "horizontal",
       "style": "IPY_MODEL_f994a63c408744d58a6ac4269e75b94b",
       "value": 570.0
      }
     },
     "850357aaef87404e9c4f67b7f4a2c91f": {
      "model_module": "@jupyter-widgets/base",
      "model_module_version": "1.2.0",
      "model_name": "LayoutModel",
      "state": {
       "_model_module": "@jupyter-widgets/base",
       "_model_module_version": "1.2.0",
       "_model_name": "LayoutModel",
       "_view_count": null,
       "_view_module": "@jupyter-widgets/base",
       "_view_module_version": "1.2.0",
       "_view_name": "LayoutView",
       "align_content": null,
       "align_items": null,
       "align_self": null,
       "border": null,
       "bottom": null,
       "display": null,
       "flex": null,
       "flex_flow": null,
       "grid_area": null,
       "grid_auto_columns": null,
       "grid_auto_flow": null,
       "grid_auto_rows": null,
       "grid_column": null,
       "grid_gap": null,
       "grid_row": null,
       "grid_template_areas": null,
       "grid_template_columns": null,
       "grid_template_rows": null,
       "height": null,
       "justify_content": null,
       "justify_items": null,
       "left": null,
       "margin": null,
       "max_height": null,
       "max_width": null,
       "min_height": null,
       "min_width": null,
       "object_fit": null,
       "object_position": null,
       "order": null,
       "overflow": null,
       "overflow_x": null,
       "overflow_y": null,
       "padding": null,
       "right": null,
       "top": null,
       "visibility": null,
       "width": null
      }
     },
     "8d5f16f34e5e4ceba0b3b9c3d8e1c8e0": {
      "model_module": "@jupyter-widgets/controls",
      "model_module_version": "1.5.0",
      "model_name": "HTMLModel",
      "state": {
       "_dom_classes": [],
       "_model_module": "@jupyter-widgets/controls",
       "_model_module_version": "1.5.0",
       "_model_name": "HTMLModel",
       "_view_count": null,
       "_view_module": "@jupyter-widgets/controls",
       "_view_module_version": "1.5.0",
       "_view_name": "HTMLView",
       "description": "",
       "description_tooltip": null,
       "layout": "IPY_MODEL_2a4185ee7ef94c3b817f0a7417b1ad55",
       "placeholder": "​",
       "style": "IPY_MODEL_1d9a485c13684dc783dc9f203616eff1",
       "value": "model.safetensors: 100%"
      }
     },
     "9664f2dd81be49228d3736159ccb2f9b": {
      "model_module": "@jupyter-widgets/controls",
      "model_module_version": "1.5.0",
      "model_name": "ProgressStyleModel",
      "state": {
       "_model_module": "@jupyter-widgets/controls",
       "_model_module_version": "1.5.0",
       "_model_name": "ProgressStyleModel",
       "_view_count": null,
       "_view_module": "@jupyter-widgets/base",
       "_view_module_version": "1.2.0",
       "_view_name": "StyleView",
       "bar_color": null,
       "description_width": ""
      }
     },
     "a7052b5c0a6e42198f47112723589eaf": {
      "model_module": "@jupyter-widgets/controls",
      "model_module_version": "1.5.0",
      "model_name": "HTMLModel",
      "state": {
       "_dom_classes": [],
       "_model_module": "@jupyter-widgets/controls",
       "_model_module_version": "1.5.0",
       "_model_name": "HTMLModel",
       "_view_count": null,
       "_view_module": "@jupyter-widgets/controls",
       "_view_module_version": "1.5.0",
       "_view_name": "HTMLView",
       "description": "",
       "description_tooltip": null,
       "layout": "IPY_MODEL_0b8bd6c860ea42a98780c65abce4a970",
       "placeholder": "​",
       "style": "IPY_MODEL_0ec86e16e2094e228fe627beb0dc8641",
       "value": "config.json: 100%"
      }
     },
     "a7e962533517461aad95cd90495ad193": {
      "model_module": "@jupyter-widgets/controls",
      "model_module_version": "1.5.0",
      "model_name": "DescriptionStyleModel",
      "state": {
       "_model_module": "@jupyter-widgets/controls",
       "_model_module_version": "1.5.0",
       "_model_name": "DescriptionStyleModel",
       "_view_count": null,
       "_view_module": "@jupyter-widgets/base",
       "_view_module_version": "1.2.0",
       "_view_name": "StyleView",
       "description_width": ""
      }
     },
     "aee49c7c15444d62863b6162a6cfd6b9": {
      "model_module": "@jupyter-widgets/base",
      "model_module_version": "1.2.0",
      "model_name": "LayoutModel",
      "state": {
       "_model_module": "@jupyter-widgets/base",
       "_model_module_version": "1.2.0",
       "_model_name": "LayoutModel",
       "_view_count": null,
       "_view_module": "@jupyter-widgets/base",
       "_view_module_version": "1.2.0",
       "_view_name": "LayoutView",
       "align_content": null,
       "align_items": null,
       "align_self": null,
       "border": null,
       "bottom": null,
       "display": null,
       "flex": null,
       "flex_flow": null,
       "grid_area": null,
       "grid_auto_columns": null,
       "grid_auto_flow": null,
       "grid_auto_rows": null,
       "grid_column": null,
       "grid_gap": null,
       "grid_row": null,
       "grid_template_areas": null,
       "grid_template_columns": null,
       "grid_template_rows": null,
       "height": null,
       "justify_content": null,
       "justify_items": null,
       "left": null,
       "margin": null,
       "max_height": null,
       "max_width": null,
       "min_height": null,
       "min_width": null,
       "object_fit": null,
       "object_position": null,
       "order": null,
       "overflow": null,
       "overflow_x": null,
       "overflow_y": null,
       "padding": null,
       "right": null,
       "top": null,
       "visibility": null,
       "width": null
      }
     },
     "af775e8495f44699bf0a8447b9842456": {
      "model_module": "@jupyter-widgets/base",
      "model_module_version": "1.2.0",
      "model_name": "LayoutModel",
      "state": {
       "_model_module": "@jupyter-widgets/base",
       "_model_module_version": "1.2.0",
       "_model_name": "LayoutModel",
       "_view_count": null,
       "_view_module": "@jupyter-widgets/base",
       "_view_module_version": "1.2.0",
       "_view_name": "LayoutView",
       "align_content": null,
       "align_items": null,
       "align_self": null,
       "border": null,
       "bottom": null,
       "display": null,
       "flex": null,
       "flex_flow": null,
       "grid_area": null,
       "grid_auto_columns": null,
       "grid_auto_flow": null,
       "grid_auto_rows": null,
       "grid_column": null,
       "grid_gap": null,
       "grid_row": null,
       "grid_template_areas": null,
       "grid_template_columns": null,
       "grid_template_rows": null,
       "height": null,
       "justify_content": null,
       "justify_items": null,
       "left": null,
       "margin": null,
       "max_height": null,
       "max_width": null,
       "min_height": null,
       "min_width": null,
       "object_fit": null,
       "object_position": null,
       "order": null,
       "overflow": null,
       "overflow_x": null,
       "overflow_y": null,
       "padding": null,
       "right": null,
       "top": null,
       "visibility": null,
       "width": null
      }
     },
     "b7e1151e05ba4875ac199f6465fd4552": {
      "model_module": "@jupyter-widgets/controls",
      "model_module_version": "1.5.0",
      "model_name": "ProgressStyleModel",
      "state": {
       "_model_module": "@jupyter-widgets/controls",
       "_model_module_version": "1.5.0",
       "_model_name": "ProgressStyleModel",
       "_view_count": null,
       "_view_module": "@jupyter-widgets/base",
       "_view_module_version": "1.2.0",
       "_view_name": "StyleView",
       "bar_color": null,
       "description_width": ""
      }
     },
     "b828a2f48bc04cdeb20b56f5a0f20f37": {
      "model_module": "@jupyter-widgets/controls",
      "model_module_version": "1.5.0",
      "model_name": "HTMLModel",
      "state": {
       "_dom_classes": [],
       "_model_module": "@jupyter-widgets/controls",
       "_model_module_version": "1.5.0",
       "_model_name": "HTMLModel",
       "_view_count": null,
       "_view_module": "@jupyter-widgets/controls",
       "_view_module_version": "1.5.0",
       "_view_name": "HTMLView",
       "description": "",
       "description_tooltip": null,
       "layout": "IPY_MODEL_e4f1db1cc6144f49bc8f9d70ea5f90b7",
       "placeholder": "​",
       "style": "IPY_MODEL_bf27cd9229f443cb8351f2038a22fa14",
       "value": "tokenizer_config.json: 100%"
      }
     },
     "bcf282bfb94648679b466e310ca38c19": {
      "model_module": "@jupyter-widgets/controls",
      "model_module_version": "1.5.0",
      "model_name": "DescriptionStyleModel",
      "state": {
       "_model_module": "@jupyter-widgets/controls",
       "_model_module_version": "1.5.0",
       "_model_name": "DescriptionStyleModel",
       "_view_count": null,
       "_view_module": "@jupyter-widgets/base",
       "_view_module_version": "1.2.0",
       "_view_name": "StyleView",
       "description_width": ""
      }
     },
     "bf27cd9229f443cb8351f2038a22fa14": {
      "model_module": "@jupyter-widgets/controls",
      "model_module_version": "1.5.0",
      "model_name": "DescriptionStyleModel",
      "state": {
       "_model_module": "@jupyter-widgets/controls",
       "_model_module_version": "1.5.0",
       "_model_name": "DescriptionStyleModel",
       "_view_count": null,
       "_view_module": "@jupyter-widgets/base",
       "_view_module_version": "1.2.0",
       "_view_name": "StyleView",
       "description_width": ""
      }
     },
     "c04ed1198a5e4c5795aaf435bb5a0b50": {
      "model_module": "@jupyter-widgets/controls",
      "model_module_version": "1.5.0",
      "model_name": "DescriptionStyleModel",
      "state": {
       "_model_module": "@jupyter-widgets/controls",
       "_model_module_version": "1.5.0",
       "_model_name": "DescriptionStyleModel",
       "_view_count": null,
       "_view_module": "@jupyter-widgets/base",
       "_view_module_version": "1.2.0",
       "_view_name": "StyleView",
       "description_width": ""
      }
     },
     "d74665036da54d0e8f1bc89bbe3a6a3b": {
      "model_module": "@jupyter-widgets/base",
      "model_module_version": "1.2.0",
      "model_name": "LayoutModel",
      "state": {
       "_model_module": "@jupyter-widgets/base",
       "_model_module_version": "1.2.0",
       "_model_name": "LayoutModel",
       "_view_count": null,
       "_view_module": "@jupyter-widgets/base",
       "_view_module_version": "1.2.0",
       "_view_name": "LayoutView",
       "align_content": null,
       "align_items": null,
       "align_self": null,
       "border": null,
       "bottom": null,
       "display": null,
       "flex": null,
       "flex_flow": null,
       "grid_area": null,
       "grid_auto_columns": null,
       "grid_auto_flow": null,
       "grid_auto_rows": null,
       "grid_column": null,
       "grid_gap": null,
       "grid_row": null,
       "grid_template_areas": null,
       "grid_template_columns": null,
       "grid_template_rows": null,
       "height": null,
       "justify_content": null,
       "justify_items": null,
       "left": null,
       "margin": null,
       "max_height": null,
       "max_width": null,
       "min_height": null,
       "min_width": null,
       "object_fit": null,
       "object_position": null,
       "order": null,
       "overflow": null,
       "overflow_x": null,
       "overflow_y": null,
       "padding": null,
       "right": null,
       "top": null,
       "visibility": null,
       "width": null
      }
     },
     "d8c8d688c1a54c9d85ae4c70ad3b14d5": {
      "model_module": "@jupyter-widgets/base",
      "model_module_version": "1.2.0",
      "model_name": "LayoutModel",
      "state": {
       "_model_module": "@jupyter-widgets/base",
       "_model_module_version": "1.2.0",
       "_model_name": "LayoutModel",
       "_view_count": null,
       "_view_module": "@jupyter-widgets/base",
       "_view_module_version": "1.2.0",
       "_view_name": "LayoutView",
       "align_content": null,
       "align_items": null,
       "align_self": null,
       "border": null,
       "bottom": null,
       "display": null,
       "flex": null,
       "flex_flow": null,
       "grid_area": null,
       "grid_auto_columns": null,
       "grid_auto_flow": null,
       "grid_auto_rows": null,
       "grid_column": null,
       "grid_gap": null,
       "grid_row": null,
       "grid_template_areas": null,
       "grid_template_columns": null,
       "grid_template_rows": null,
       "height": null,
       "justify_content": null,
       "justify_items": null,
       "left": null,
       "margin": null,
       "max_height": null,
       "max_width": null,
       "min_height": null,
       "min_width": null,
       "object_fit": null,
       "object_position": null,
       "order": null,
       "overflow": null,
       "overflow_x": null,
       "overflow_y": null,
       "padding": null,
       "right": null,
       "top": null,
       "visibility": null,
       "width": null
      }
     },
     "e2346a09f32b482797170f6f438189c3": {
      "model_module": "@jupyter-widgets/controls",
      "model_module_version": "1.5.0",
      "model_name": "FloatProgressModel",
      "state": {
       "_dom_classes": [],
       "_model_module": "@jupyter-widgets/controls",
       "_model_module_version": "1.5.0",
       "_model_name": "FloatProgressModel",
       "_view_count": null,
       "_view_module": "@jupyter-widgets/controls",
       "_view_module_version": "1.5.0",
       "_view_name": "ProgressView",
       "bar_style": "success",
       "description": "",
       "description_tooltip": null,
       "layout": "IPY_MODEL_d8c8d688c1a54c9d85ae4c70ad3b14d5",
       "max": 440449768.0,
       "min": 0.0,
       "orientation": "horizontal",
       "style": "IPY_MODEL_9664f2dd81be49228d3736159ccb2f9b",
       "value": 440449768.0
      }
     },
     "e4f1db1cc6144f49bc8f9d70ea5f90b7": {
      "model_module": "@jupyter-widgets/base",
      "model_module_version": "1.2.0",
      "model_name": "LayoutModel",
      "state": {
       "_model_module": "@jupyter-widgets/base",
       "_model_module_version": "1.2.0",
       "_model_name": "LayoutModel",
       "_view_count": null,
       "_view_module": "@jupyter-widgets/base",
       "_view_module_version": "1.2.0",
       "_view_name": "LayoutView",
       "align_content": null,
       "align_items": null,
       "align_self": null,
       "border": null,
       "bottom": null,
       "display": null,
       "flex": null,
       "flex_flow": null,
       "grid_area": null,
       "grid_auto_columns": null,
       "grid_auto_flow": null,
       "grid_auto_rows": null,
       "grid_column": null,
       "grid_gap": null,
       "grid_row": null,
       "grid_template_areas": null,
       "grid_template_columns": null,
       "grid_template_rows": null,
       "height": null,
       "justify_content": null,
       "justify_items": null,
       "left": null,
       "margin": null,
       "max_height": null,
       "max_width": null,
       "min_height": null,
       "min_width": null,
       "object_fit": null,
       "object_position": null,
       "order": null,
       "overflow": null,
       "overflow_x": null,
       "overflow_y": null,
       "padding": null,
       "right": null,
       "top": null,
       "visibility": null,
       "width": null
      }
     },
     "e829aadf43de4b47adc3cc7c59386a88": {
      "model_module": "@jupyter-widgets/controls",
      "model_module_version": "1.5.0",
      "model_name": "DescriptionStyleModel",
      "state": {
       "_model_module": "@jupyter-widgets/controls",
       "_model_module_version": "1.5.0",
       "_model_name": "DescriptionStyleModel",
       "_view_count": null,
       "_view_module": "@jupyter-widgets/base",
       "_view_module_version": "1.2.0",
       "_view_name": "StyleView",
       "description_width": ""
      }
     },
     "ec6a7028ea36481c8f374478cdfd4984": {
      "model_module": "@jupyter-widgets/controls",
      "model_module_version": "1.5.0",
      "model_name": "HBoxModel",
      "state": {
       "_dom_classes": [],
       "_model_module": "@jupyter-widgets/controls",
       "_model_module_version": "1.5.0",
       "_model_name": "HBoxModel",
       "_view_count": null,
       "_view_module": "@jupyter-widgets/controls",
       "_view_module_version": "1.5.0",
       "_view_name": "HBoxView",
       "box_style": "",
       "children": [
        "IPY_MODEL_0d56de1ab6084b20b9d74eb504fb56f5",
        "IPY_MODEL_6657950fa9a542078335a7190e1638d1",
        "IPY_MODEL_69389b0ee7e34dbb964be6c61a4ef2e9"
       ],
       "layout": "IPY_MODEL_248030661410439e8c0a70c70e84c638"
      }
     },
     "ed905bb008bc45bb883994824889148b": {
      "model_module": "@jupyter-widgets/base",
      "model_module_version": "1.2.0",
      "model_name": "LayoutModel",
      "state": {
       "_model_module": "@jupyter-widgets/base",
       "_model_module_version": "1.2.0",
       "_model_name": "LayoutModel",
       "_view_count": null,
       "_view_module": "@jupyter-widgets/base",
       "_view_module_version": "1.2.0",
       "_view_name": "LayoutView",
       "align_content": null,
       "align_items": null,
       "align_self": null,
       "border": null,
       "bottom": null,
       "display": null,
       "flex": null,
       "flex_flow": null,
       "grid_area": null,
       "grid_auto_columns": null,
       "grid_auto_flow": null,
       "grid_auto_rows": null,
       "grid_column": null,
       "grid_gap": null,
       "grid_row": null,
       "grid_template_areas": null,
       "grid_template_columns": null,
       "grid_template_rows": null,
       "height": null,
       "justify_content": null,
       "justify_items": null,
       "left": null,
       "margin": null,
       "max_height": null,
       "max_width": null,
       "min_height": null,
       "min_width": null,
       "object_fit": null,
       "object_position": null,
       "order": null,
       "overflow": null,
       "overflow_x": null,
       "overflow_y": null,
       "padding": null,
       "right": null,
       "top": null,
       "visibility": null,
       "width": null
      }
     },
     "f5846e5183e94deba5880e691772481d": {
      "model_module": "@jupyter-widgets/controls",
      "model_module_version": "1.5.0",
      "model_name": "DescriptionStyleModel",
      "state": {
       "_model_module": "@jupyter-widgets/controls",
       "_model_module_version": "1.5.0",
       "_model_name": "DescriptionStyleModel",
       "_view_count": null,
       "_view_module": "@jupyter-widgets/base",
       "_view_module_version": "1.2.0",
       "_view_name": "StyleView",
       "description_width": ""
      }
     },
     "f95ba37fd64e4290932e23cdfafb42bc": {
      "model_module": "@jupyter-widgets/controls",
      "model_module_version": "1.5.0",
      "model_name": "HBoxModel",
      "state": {
       "_dom_classes": [],
       "_model_module": "@jupyter-widgets/controls",
       "_model_module_version": "1.5.0",
       "_model_name": "HBoxModel",
       "_view_count": null,
       "_view_module": "@jupyter-widgets/controls",
       "_view_module_version": "1.5.0",
       "_view_name": "HBoxView",
       "box_style": "",
       "children": [
        "IPY_MODEL_fb9feb6d92d445ea97205dd01b6d6e81",
        "IPY_MODEL_03ea4a99639d4e40a1d2d78dee277702",
        "IPY_MODEL_4a9e7d20b79a421eadc16cb60c98cad4"
       ],
       "layout": "IPY_MODEL_713278d49011466b8b316b7debabedae"
      }
     },
     "f994a63c408744d58a6ac4269e75b94b": {
      "model_module": "@jupyter-widgets/controls",
      "model_module_version": "1.5.0",
      "model_name": "ProgressStyleModel",
      "state": {
       "_model_module": "@jupyter-widgets/controls",
       "_model_module_version": "1.5.0",
       "_model_name": "ProgressStyleModel",
       "_view_count": null,
       "_view_module": "@jupyter-widgets/base",
       "_view_module_version": "1.2.0",
       "_view_name": "StyleView",
       "bar_color": null,
       "description_width": ""
      }
     },
     "fa4336b17ea64984ba4d09c8835daa09": {
      "model_module": "@jupyter-widgets/controls",
      "model_module_version": "1.5.0",
      "model_name": "ProgressStyleModel",
      "state": {
       "_model_module": "@jupyter-widgets/controls",
       "_model_module_version": "1.5.0",
       "_model_name": "ProgressStyleModel",
       "_view_count": null,
       "_view_module": "@jupyter-widgets/base",
       "_view_module_version": "1.2.0",
       "_view_name": "StyleView",
       "bar_color": null,
       "description_width": ""
      }
     },
     "fb9feb6d92d445ea97205dd01b6d6e81": {
      "model_module": "@jupyter-widgets/controls",
      "model_module_version": "1.5.0",
      "model_name": "HTMLModel",
      "state": {
       "_dom_classes": [],
       "_model_module": "@jupyter-widgets/controls",
       "_model_module_version": "1.5.0",
       "_model_name": "HTMLModel",
       "_view_count": null,
       "_view_module": "@jupyter-widgets/controls",
       "_view_module_version": "1.5.0",
       "_view_name": "HTMLView",
       "description": "",
       "description_tooltip": null,
       "layout": "IPY_MODEL_aee49c7c15444d62863b6162a6cfd6b9",
       "placeholder": "​",
       "style": "IPY_MODEL_bcf282bfb94648679b466e310ca38c19",
       "value": "vocab.txt: 100%"
      }
     }
    },
    "version_major": 2,
    "version_minor": 0
   }
  }
 },
 "nbformat": 4,
 "nbformat_minor": 5
}
